{
 "cells": [
  {
   "cell_type": "markdown",
   "metadata": {},
   "source": [
    "# Modelos de predicción de fuga de clientes\n",
    "### Álvaro León Garrido"
   ]
  },
  {
   "cell_type": "markdown",
   "metadata": {},
   "source": [
    "# Introducción\n",
    "##### El ejercicio consiste en la construcción de un modelo de clasificación de clientes para predecir aquellos que potencialmente se irán de un compañia de telecomunicaciones. Para ello se dispone de una serie de variables que describen el comportamiento \"tecnológico\" de los clientes respecto a los servicios y canales de atención de la compañia. El ejercicio consiste, en primer término, en construir un tablón analítico que reuna y organice coherentemente la información para dos meses consecutivos. Con ello debe realizarse, luego, una exploración de la calidad de los datos, y prepararlos para utilizarlos en el modelo de clasificación. Más tarde, tras generar un modelo base, se deben realizar esfuerzos para optimizar features y/o parámetros del modelo. Finalmente, se describirán las características del modelo en relación a su propósito."
   ]
  },
  {
   "cell_type": "markdown",
   "metadata": {},
   "source": [
    "# Preambulo\n",
    "##### En primer lugar debemos cargar las librerías a utilizar en el ejercicio, y los datos con los que contamos. Luego, haremos una pequeña descripción de estos para comenzar a familiarizarnos con ellos. Así, tenemos lo siguiente:"
   ]
  },
  {
   "cell_type": "code",
   "execution_count": 335,
   "metadata": {},
   "outputs": [],
   "source": [
    "# Cargamos librerías\n",
    "import numpy as np\n",
    "import pandas as pd\n",
    "import seaborn as sns\n",
    "import requests\n",
    "import matplotlib.pyplot as plt\n",
    "%matplotlib inline\n",
    "from sklearn.linear_model import LinearRegression\n",
    "from sklearn.linear_model import LogisticRegression\n",
    "from sklearn.metrics import accuracy_score, auc, confusion_matrix, f1_score, precision_score, recall_score, roc_curve, classification_report\n",
    "from sklearn.model_selection import train_test_split\n",
    "from sklearn.tree import DecisionTreeClassifier\n",
    "from sklearn.ensemble import RandomForestClassifier\n",
    "from sklearn.svm import SVC\n",
    "from sklearn import naive_bayes\n",
    "from sklearn.model_selection import cross_val_score\n",
    "from sklearn import metrics\n",
    "from pandas.plotting import scatter_matrix\n",
    "from scipy import stats\n",
    "from bs4 import BeautifulSoup\n",
    "from matplotlib import pyplot"
   ]
  },
  {
   "cell_type": "code",
   "execution_count": 336,
   "metadata": {},
   "outputs": [],
   "source": [
    "# Cargamos datos de diciembre\n",
    "dic_clientes = pd.read_csv('diciembre/clientes_diciembre.csv', sep = '|')\n",
    "dic_productos = pd.read_csv('diciembre/productos_diciembre.csv', sep = '|')\n",
    "dic_consumos = pd.read_csv('diciembre/consumos_diciembre.csv', sep = '|')\n",
    "dic_financiacion = pd.read_csv('diciembre/financiacion_diciembre.csv', sep = '|')"
   ]
  },
  {
   "cell_type": "code",
   "execution_count": 337,
   "metadata": {},
   "outputs": [],
   "source": [
    "# Cargamos datos de diciembre\n",
    "ene_clientes = pd.read_csv('enero/clientes_enero.csv', sep = '|')\n",
    "ene_productos = pd.read_csv('enero/productos_enero.csv', sep = '|')\n",
    "ene_consumos = pd.read_csv('enero/consumos_enero.csv', sep = '|')\n",
    "ene_financiacion = pd.read_csv('enero/financiacion_enero.csv', sep = '|')"
   ]
  },
  {
   "cell_type": "markdown",
   "metadata": {},
   "source": [
    "Contamos información de **95.467 registros/clientes en diciembre y 92.711 en enero**. Además del identificador, poseemos 18 descritores de cada uno de ellos. La variable objetivo o `target` se construirá posteriormente, determinando qué clientes (`id`) en diciembre han dejado de estarlo en enero. Así, `target` será simplemente una variable dicotómica donde 1 representa que el cliente se ha ido (presencia del atributo *fuga*) y 0 será que el cliente permaneción otro mes en la compañía.\n",
    "\n",
    "Luego, los features sobre los clientes son los siguientes:\n",
    "\n",
    "+ `id`: es el identificador unico de cada cliente (valores numéricos). \n",
    "\n",
    "> Descripción de los clientes:\n",
    "+ `edad`: edad de los clientes (entre 18 a 85 años).\n",
    "+ `facturacion`: dinero que pagan los clientes al mes (entre 15 y 400).\n",
    "+ `antiguedad`: fecha de alta del cliente (*string*, casi valores únicos).\n",
    "+ `provincia`: lugar de procedencia del cliente (50 provincias nombradas de España).\n",
    "+ `num_lineas`: número de líneas móviles contratadas (entre 1 y 5).\n",
    "+ `num_dt`: número de líneas en impago (numérica, de 1 a 4. `NaN` si no tiene en impago).\n",
    "+ `incidencia`: si el cliente ha tenido alguna incidencia/reclamación (`NaN` si no lo ha hecho).\n",
    "\n",
    "> Descripción de productos contratados:\n",
    "+ `conexión`: tipo de conexión de internet del cliente (dos valores: `FIBRA` o `ADSL`).\n",
    "+ `vel_conexion`: velocidad de conexión de internet (*string* que esconde numérica. 11 valores distintos).\n",
    "+ `TV`: tipo de paquete de tv contratado por el cliente (3 valores distintos).\n",
    "\n",
    "> Descripción del consumo de servicios:\n",
    "+ `num_llamad_ent`: número de llamadas entrantes de todas sus líneas (numérica, entre 0 y 250).\n",
    "+ `num_llamad_sal`: número de llamadas salientes de todas sus líneas (numérica, entre 0 y 100).\n",
    "+ `mb_datos`: mb de los datos consumidos en todas sus líneas (numérica, entre 0 y 25.000).\n",
    "+ `seg_llamad_ent`: segundos consumidos en llamadas entrantes (numérica, entre 0 y 20.000).\n",
    "+ `seg_llamad_sal`: segundos consumidos en llamadas salientes (numérica, entre 0 y 20.000).\n",
    "\n",
    "> Descripción del consumo de servicios:\n",
    "+ `financiación`: si el cliente tiene financiado algún terminal (`NaN` si no lo tiene).\n",
    "+ `imp_financ`: el dinero mensual que paga por los terminales financiados (`NaN` si no tiene terminal financiado).\n",
    "+ `descuentos`: si el cliente tiene activo algún descuento (`NaN` si no tiene)."
   ]
  },
  {
   "cell_type": "code",
   "execution_count": 338,
   "metadata": {},
   "outputs": [
    {
     "data": {
      "text/plain": [
       "95467"
      ]
     },
     "execution_count": 338,
     "metadata": {},
     "output_type": "execute_result"
    }
   ],
   "source": [
    "dic_clientes.shape[0]"
   ]
  },
  {
   "cell_type": "code",
   "execution_count": 339,
   "metadata": {},
   "outputs": [
    {
     "data": {
      "text/plain": [
       "92711"
      ]
     },
     "execution_count": 339,
     "metadata": {},
     "output_type": "execute_result"
    }
   ],
   "source": [
    "ene_clientes.shape[0]"
   ]
  },
  {
   "cell_type": "markdown",
   "metadata": {},
   "source": [
    "# EDA y depuración de los datos\n",
    "##### En este apartado haremos realizaremos un análisis exploratorio de los datos para prepararlos con miras a un primer modelo de clasificación. Para ello, primero, los reuniremos según cada mes en un único dataset."
   ]
  },
  {
   "cell_type": "code",
   "execution_count": 340,
   "metadata": {},
   "outputs": [],
   "source": [
    "# Juntamos datos de diciembre\n",
    "merge1 = pd.merge(dic_clientes, dic_productos, how='left', on='id')\n",
    "merge2 = pd.merge(merge1, dic_consumos, how='left', on='id')\n",
    "dic_raw = pd.merge(merge2, dic_financiacion, how='left', on='id')\n",
    "\n",
    "# Juntamos datos de enero\n",
    "merge3 = pd.merge(ene_clientes, ene_productos, how='left', on='id')\n",
    "merge4 = pd.merge(merge3, ene_consumos, how='left', on='id')\n",
    "ene_raw = pd.merge(merge4, ene_financiacion, how='left', on='id')"
   ]
  },
  {
   "cell_type": "markdown",
   "metadata": {},
   "source": [
    "<br>A través de un simple `describe` podemos constatar que el conjunto de datos no tiene valores fuera de rango ni `NA`. No obstante, encontramos otros problemas que deben ser resueltos para construir un primer modelo base:\n",
    "\n",
    "**(1) Incongruencia en el registro del dato de algunas features**. Por ejemplo, vimos que `num_dt`, que representa el número de líneas en impago es una varible numérica con valores entre 1 y 4. No obstante, si un cliente no tiene líneas en impago, en vez de ser expresado con un cero se ha dejado vacío, lo que es interpretado por `read_csv` de *pandas* como un *not a number* o `NaN`. Debemos corregir esto tanto en `num_dt` como en `incidencia`, `financiacion`, `imp_financ` y `descuentos`. Ahora bien, para las numéricas el valor real es 0, y para las categóricas también en la medida que sean realmente dicotómicas (si/no).\n",
    "\n",
    "**(2) Mucha información en una misma variable**. La variable `antiguedad` en realidad aun no registra dicho fenómeno. Es simplemente la fecha y hora en que el cliente se dio de alta en la compañía. En ese sentido, la variable contiene mucha información para estar almacenada en una sola variable. Podemos, por ejemplo, **calcular la real antiguedad del cliente** (tomando como referencia la fecha más antigua, el último día del mes, o el primer día del mes siguiente); el **día de la semana en que se dio de alta**, o dividir el mes en semanas o quincenas; el **momento del día (AM o PM)** o incluso por tramos horarios. En definitiva, es una variable que puede dar bastante información.\n",
    "\n",
    "El mismo fenómeno ocurre con la variable `provincia`. La información geográfica es en general muy valiosa. En este caso se reduce simplemente al nombre de la pronvincia de España en que el cliente se ha dado de alta. No obstante, para utilizarla debemos primero que todo convertirla a numérica. Luego, considerando información externa podemos potenciarla, con la complicación de que toda información externa debe corresponder al momento de referencia (diciembre de 2019 -No puede aportarse información ni mucho más nueva ni mucho más vieja), y bueno... que los datos son ficticios. Podemos, por ejemplo, **agregar información sociodemográfica** (cantidad de habitantes, proporción de hombres y mujeres, superficie) o alguna más **relacionada con el negocio** (poder de compra de los residentes -PIB percápita o alguna otra medida menos indirecta; competencia, o cantidad de compañías de telecomunicaciones, etc.). \n",
    "\n",
    "**(3) Variables categórica que esconde una numérica**. Esto ocurre en dos sentidos. `vel_conexion`, si bien posee una unidad de medida, al ser en todos los casos la misma, lo que realmente expresa es un número. Por otro lado, `conexion` y `TV`, al poseer pocos valores (2 y 3 respectivamente), en realidad pueden expresarse como variables *dummie*."
   ]
  },
  {
   "cell_type": "code",
   "execution_count": 341,
   "metadata": {},
   "outputs": [
    {
     "data": {
      "text/html": [
       "<div>\n",
       "<style scoped>\n",
       "    .dataframe tbody tr th:only-of-type {\n",
       "        vertical-align: middle;\n",
       "    }\n",
       "\n",
       "    .dataframe tbody tr th {\n",
       "        vertical-align: top;\n",
       "    }\n",
       "\n",
       "    .dataframe thead th {\n",
       "        text-align: right;\n",
       "    }\n",
       "</style>\n",
       "<table border=\"1\" class=\"dataframe\">\n",
       "  <thead>\n",
       "    <tr style=\"text-align: right;\">\n",
       "      <th></th>\n",
       "      <th>id</th>\n",
       "      <th>edad</th>\n",
       "      <th>facturacion</th>\n",
       "      <th>antiguedad</th>\n",
       "      <th>provincia</th>\n",
       "      <th>num_lineas</th>\n",
       "      <th>num_dt</th>\n",
       "      <th>incidencia</th>\n",
       "      <th>conexion</th>\n",
       "      <th>vel_conexion</th>\n",
       "      <th>TV</th>\n",
       "      <th>num_llamad_ent</th>\n",
       "      <th>num_llamad_sal</th>\n",
       "      <th>mb_datos</th>\n",
       "      <th>seg_llamad_ent</th>\n",
       "      <th>seg_llamad_sal</th>\n",
       "      <th>financiacion</th>\n",
       "      <th>imp_financ</th>\n",
       "      <th>descuentos</th>\n",
       "    </tr>\n",
       "  </thead>\n",
       "  <tbody>\n",
       "    <tr>\n",
       "      <th>count</th>\n",
       "      <td>95467.000000</td>\n",
       "      <td>95467.000000</td>\n",
       "      <td>95467.000000</td>\n",
       "      <td>95467</td>\n",
       "      <td>95467</td>\n",
       "      <td>95467.000000</td>\n",
       "      <td>6517.000000</td>\n",
       "      <td>5232</td>\n",
       "      <td>95467</td>\n",
       "      <td>95467</td>\n",
       "      <td>95467</td>\n",
       "      <td>95467.000000</td>\n",
       "      <td>95467.000000</td>\n",
       "      <td>95467.000000</td>\n",
       "      <td>95467.000000</td>\n",
       "      <td>95467.000000</td>\n",
       "      <td>6372</td>\n",
       "      <td>6372.000000</td>\n",
       "      <td>19154</td>\n",
       "    </tr>\n",
       "    <tr>\n",
       "      <th>unique</th>\n",
       "      <td>NaN</td>\n",
       "      <td>NaN</td>\n",
       "      <td>NaN</td>\n",
       "      <td>95171</td>\n",
       "      <td>50</td>\n",
       "      <td>NaN</td>\n",
       "      <td>NaN</td>\n",
       "      <td>1</td>\n",
       "      <td>2</td>\n",
       "      <td>11</td>\n",
       "      <td>3</td>\n",
       "      <td>NaN</td>\n",
       "      <td>NaN</td>\n",
       "      <td>NaN</td>\n",
       "      <td>NaN</td>\n",
       "      <td>NaN</td>\n",
       "      <td>1</td>\n",
       "      <td>NaN</td>\n",
       "      <td>1</td>\n",
       "    </tr>\n",
       "    <tr>\n",
       "      <th>top</th>\n",
       "      <td>NaN</td>\n",
       "      <td>NaN</td>\n",
       "      <td>NaN</td>\n",
       "      <td>08/05/2011 06:34 AM</td>\n",
       "      <td>Zaragoza</td>\n",
       "      <td>NaN</td>\n",
       "      <td>NaN</td>\n",
       "      <td>SI</td>\n",
       "      <td>ADSL</td>\n",
       "      <td>200MB</td>\n",
       "      <td>tv-futbol</td>\n",
       "      <td>NaN</td>\n",
       "      <td>NaN</td>\n",
       "      <td>NaN</td>\n",
       "      <td>NaN</td>\n",
       "      <td>NaN</td>\n",
       "      <td>SI</td>\n",
       "      <td>NaN</td>\n",
       "      <td>SI</td>\n",
       "    </tr>\n",
       "    <tr>\n",
       "      <th>freq</th>\n",
       "      <td>NaN</td>\n",
       "      <td>NaN</td>\n",
       "      <td>NaN</td>\n",
       "      <td>2</td>\n",
       "      <td>1991</td>\n",
       "      <td>NaN</td>\n",
       "      <td>NaN</td>\n",
       "      <td>5232</td>\n",
       "      <td>47900</td>\n",
       "      <td>9677</td>\n",
       "      <td>47535</td>\n",
       "      <td>NaN</td>\n",
       "      <td>NaN</td>\n",
       "      <td>NaN</td>\n",
       "      <td>NaN</td>\n",
       "      <td>NaN</td>\n",
       "      <td>6372</td>\n",
       "      <td>NaN</td>\n",
       "      <td>19154</td>\n",
       "    </tr>\n",
       "    <tr>\n",
       "      <th>mean</th>\n",
       "      <td>49994.256832</td>\n",
       "      <td>51.462086</td>\n",
       "      <td>207.392912</td>\n",
       "      <td>NaN</td>\n",
       "      <td>NaN</td>\n",
       "      <td>3.558518</td>\n",
       "      <td>2.498082</td>\n",
       "      <td>NaN</td>\n",
       "      <td>NaN</td>\n",
       "      <td>NaN</td>\n",
       "      <td>NaN</td>\n",
       "      <td>124.815633</td>\n",
       "      <td>50.022762</td>\n",
       "      <td>12489.795898</td>\n",
       "      <td>9984.406612</td>\n",
       "      <td>10029.761342</td>\n",
       "      <td>NaN</td>\n",
       "      <td>22.268613</td>\n",
       "      <td>NaN</td>\n",
       "    </tr>\n",
       "    <tr>\n",
       "      <th>std</th>\n",
       "      <td>28873.008865</td>\n",
       "      <td>19.590846</td>\n",
       "      <td>111.343491</td>\n",
       "      <td>NaN</td>\n",
       "      <td>NaN</td>\n",
       "      <td>1.086095</td>\n",
       "      <td>1.121339</td>\n",
       "      <td>NaN</td>\n",
       "      <td>NaN</td>\n",
       "      <td>NaN</td>\n",
       "      <td>NaN</td>\n",
       "      <td>72.492338</td>\n",
       "      <td>29.119904</td>\n",
       "      <td>7239.421267</td>\n",
       "      <td>5763.182070</td>\n",
       "      <td>5763.518604</td>\n",
       "      <td>NaN</td>\n",
       "      <td>10.177659</td>\n",
       "      <td>NaN</td>\n",
       "    </tr>\n",
       "    <tr>\n",
       "      <th>min</th>\n",
       "      <td>1.000000</td>\n",
       "      <td>18.000000</td>\n",
       "      <td>15.000439</td>\n",
       "      <td>NaN</td>\n",
       "      <td>NaN</td>\n",
       "      <td>1.000000</td>\n",
       "      <td>1.000000</td>\n",
       "      <td>NaN</td>\n",
       "      <td>NaN</td>\n",
       "      <td>NaN</td>\n",
       "      <td>NaN</td>\n",
       "      <td>0.000000</td>\n",
       "      <td>0.000000</td>\n",
       "      <td>0.000000</td>\n",
       "      <td>0.000000</td>\n",
       "      <td>0.000000</td>\n",
       "      <td>NaN</td>\n",
       "      <td>5.009999</td>\n",
       "      <td>NaN</td>\n",
       "    </tr>\n",
       "    <tr>\n",
       "      <th>25%</th>\n",
       "      <td>24997.500000</td>\n",
       "      <td>35.000000</td>\n",
       "      <td>111.383822</td>\n",
       "      <td>NaN</td>\n",
       "      <td>NaN</td>\n",
       "      <td>3.000000</td>\n",
       "      <td>1.000000</td>\n",
       "      <td>NaN</td>\n",
       "      <td>NaN</td>\n",
       "      <td>NaN</td>\n",
       "      <td>NaN</td>\n",
       "      <td>62.000000</td>\n",
       "      <td>25.000000</td>\n",
       "      <td>6177.500000</td>\n",
       "      <td>5006.000000</td>\n",
       "      <td>5055.000000</td>\n",
       "      <td>NaN</td>\n",
       "      <td>13.432253</td>\n",
       "      <td>NaN</td>\n",
       "    </tr>\n",
       "    <tr>\n",
       "      <th>50%</th>\n",
       "      <td>49970.000000</td>\n",
       "      <td>51.000000</td>\n",
       "      <td>206.808431</td>\n",
       "      <td>NaN</td>\n",
       "      <td>NaN</td>\n",
       "      <td>4.000000</td>\n",
       "      <td>3.000000</td>\n",
       "      <td>NaN</td>\n",
       "      <td>NaN</td>\n",
       "      <td>NaN</td>\n",
       "      <td>NaN</td>\n",
       "      <td>124.000000</td>\n",
       "      <td>50.000000</td>\n",
       "      <td>12466.000000</td>\n",
       "      <td>9965.000000</td>\n",
       "      <td>10024.000000</td>\n",
       "      <td>NaN</td>\n",
       "      <td>21.885534</td>\n",
       "      <td>NaN</td>\n",
       "    </tr>\n",
       "    <tr>\n",
       "      <th>75%</th>\n",
       "      <td>75021.500000</td>\n",
       "      <td>68.000000</td>\n",
       "      <td>304.436599</td>\n",
       "      <td>NaN</td>\n",
       "      <td>NaN</td>\n",
       "      <td>4.000000</td>\n",
       "      <td>4.000000</td>\n",
       "      <td>NaN</td>\n",
       "      <td>NaN</td>\n",
       "      <td>NaN</td>\n",
       "      <td>NaN</td>\n",
       "      <td>188.000000</td>\n",
       "      <td>75.000000</td>\n",
       "      <td>18785.500000</td>\n",
       "      <td>14969.000000</td>\n",
       "      <td>15007.000000</td>\n",
       "      <td>NaN</td>\n",
       "      <td>31.155292</td>\n",
       "      <td>NaN</td>\n",
       "    </tr>\n",
       "    <tr>\n",
       "      <th>max</th>\n",
       "      <td>100000.000000</td>\n",
       "      <td>85.000000</td>\n",
       "      <td>399.998433</td>\n",
       "      <td>NaN</td>\n",
       "      <td>NaN</td>\n",
       "      <td>5.000000</td>\n",
       "      <td>4.000000</td>\n",
       "      <td>NaN</td>\n",
       "      <td>NaN</td>\n",
       "      <td>NaN</td>\n",
       "      <td>NaN</td>\n",
       "      <td>250.000000</td>\n",
       "      <td>100.000000</td>\n",
       "      <td>25000.000000</td>\n",
       "      <td>20000.000000</td>\n",
       "      <td>20000.000000</td>\n",
       "      <td>NaN</td>\n",
       "      <td>39.990128</td>\n",
       "      <td>NaN</td>\n",
       "    </tr>\n",
       "  </tbody>\n",
       "</table>\n",
       "</div>"
      ],
      "text/plain": [
       "                   id          edad   facturacion           antiguedad  \\\n",
       "count    95467.000000  95467.000000  95467.000000                95467   \n",
       "unique            NaN           NaN           NaN                95171   \n",
       "top               NaN           NaN           NaN  08/05/2011 06:34 AM   \n",
       "freq              NaN           NaN           NaN                    2   \n",
       "mean     49994.256832     51.462086    207.392912                  NaN   \n",
       "std      28873.008865     19.590846    111.343491                  NaN   \n",
       "min          1.000000     18.000000     15.000439                  NaN   \n",
       "25%      24997.500000     35.000000    111.383822                  NaN   \n",
       "50%      49970.000000     51.000000    206.808431                  NaN   \n",
       "75%      75021.500000     68.000000    304.436599                  NaN   \n",
       "max     100000.000000     85.000000    399.998433                  NaN   \n",
       "\n",
       "       provincia    num_lineas       num_dt incidencia conexion vel_conexion  \\\n",
       "count      95467  95467.000000  6517.000000       5232    95467        95467   \n",
       "unique        50           NaN          NaN          1        2           11   \n",
       "top     Zaragoza           NaN          NaN         SI     ADSL        200MB   \n",
       "freq        1991           NaN          NaN       5232    47900         9677   \n",
       "mean         NaN      3.558518     2.498082        NaN      NaN          NaN   \n",
       "std          NaN      1.086095     1.121339        NaN      NaN          NaN   \n",
       "min          NaN      1.000000     1.000000        NaN      NaN          NaN   \n",
       "25%          NaN      3.000000     1.000000        NaN      NaN          NaN   \n",
       "50%          NaN      4.000000     3.000000        NaN      NaN          NaN   \n",
       "75%          NaN      4.000000     4.000000        NaN      NaN          NaN   \n",
       "max          NaN      5.000000     4.000000        NaN      NaN          NaN   \n",
       "\n",
       "               TV  num_llamad_ent  num_llamad_sal      mb_datos  \\\n",
       "count       95467    95467.000000    95467.000000  95467.000000   \n",
       "unique          3             NaN             NaN           NaN   \n",
       "top     tv-futbol             NaN             NaN           NaN   \n",
       "freq        47535             NaN             NaN           NaN   \n",
       "mean          NaN      124.815633       50.022762  12489.795898   \n",
       "std           NaN       72.492338       29.119904   7239.421267   \n",
       "min           NaN        0.000000        0.000000      0.000000   \n",
       "25%           NaN       62.000000       25.000000   6177.500000   \n",
       "50%           NaN      124.000000       50.000000  12466.000000   \n",
       "75%           NaN      188.000000       75.000000  18785.500000   \n",
       "max           NaN      250.000000      100.000000  25000.000000   \n",
       "\n",
       "        seg_llamad_ent  seg_llamad_sal financiacion   imp_financ descuentos  \n",
       "count     95467.000000    95467.000000         6372  6372.000000      19154  \n",
       "unique             NaN             NaN            1          NaN          1  \n",
       "top                NaN             NaN           SI          NaN         SI  \n",
       "freq               NaN             NaN         6372          NaN      19154  \n",
       "mean       9984.406612    10029.761342          NaN    22.268613        NaN  \n",
       "std        5763.182070     5763.518604          NaN    10.177659        NaN  \n",
       "min           0.000000        0.000000          NaN     5.009999        NaN  \n",
       "25%        5006.000000     5055.000000          NaN    13.432253        NaN  \n",
       "50%        9965.000000    10024.000000          NaN    21.885534        NaN  \n",
       "75%       14969.000000    15007.000000          NaN    31.155292        NaN  \n",
       "max       20000.000000    20000.000000          NaN    39.990128        NaN  "
      ]
     },
     "execution_count": 341,
     "metadata": {},
     "output_type": "execute_result"
    }
   ],
   "source": [
    "dic_raw.describe(include='all')"
   ]
  },
  {
   "cell_type": "markdown",
   "metadata": {},
   "source": [
    "### Incongruencias por `NaN`\n",
    "En este subapartado vamos a corregir los `NaN` del dataset para las variables categóricas (que expresan Sí/No, por tanto transformando a 1/0) y para las numéricas (simplemente reemplazando por 0)."
   ]
  },
  {
   "cell_type": "code",
   "execution_count": 342,
   "metadata": {},
   "outputs": [],
   "source": [
    "# Convierto numéricas\n",
    "dic_raw['num_dt'].fillna(0, inplace=True)"
   ]
  },
  {
   "cell_type": "code",
   "execution_count": 343,
   "metadata": {},
   "outputs": [],
   "source": [
    "dic_raw['imp_financ'].fillna(0, inplace=True)"
   ]
  },
  {
   "cell_type": "code",
   "execution_count": 344,
   "metadata": {},
   "outputs": [],
   "source": [
    "## Convierto categóricas\n",
    "dic_raw['incidencia'].replace(('SI'), (1), inplace=True)\n",
    "dic_raw['incidencia'].fillna(0, inplace=True)\n",
    "\n",
    "dic_raw['financiacion'].replace(('SI'), (1), inplace=True)\n",
    "dic_raw['financiacion'].fillna(0, inplace=True)\n",
    "\n",
    "dic_raw['descuentos'].replace(('SI'), (1), inplace=True)\n",
    "dic_raw['descuentos'].fillna(0, inplace=True)"
   ]
  },
  {
   "cell_type": "markdown",
   "metadata": {},
   "source": [
    "### Variables con mucha información\n",
    "En este subapartado vamos a transformar `antiguedad` y `provincia` en variables utilizables para el modelo (es decir, en numéricas o *date*).\n",
    "\n",
    "**(1)** Variables de fecha y hora. Construiremos nuevas variables para registrar por separado el año, mes y día en que se ha dado de alta el cliente, más una variable que registra la antiguedad del cliente en días."
   ]
  },
  {
   "cell_type": "code",
   "execution_count": 345,
   "metadata": {},
   "outputs": [],
   "source": [
    "# Le damos formato fecha a la columna `antiguedad`\n",
    "dic_raw['antiguedad'] = pd.to_datetime(dic_raw['antiguedad'], format='%m/%d/%Y %I:%M %p')"
   ]
  },
  {
   "cell_type": "markdown",
   "metadata": {},
   "source": [
    "> Si inspeccionamos la nueva variable, vemos que la fecha/cliente más antiguo es el 1 de enero de 1995, y la más nueva o última el 31 de diciembre del 2019 (terminando el año)."
   ]
  },
  {
   "cell_type": "code",
   "execution_count": 346,
   "metadata": {},
   "outputs": [
    {
     "data": {
      "text/plain": [
       "count                   95467\n",
       "unique                  95171\n",
       "top       2017-05-18 04:23:00\n",
       "freq                        2\n",
       "first     1995-01-01 15:23:00\n",
       "last      2019-12-31 03:30:00\n",
       "Name: antiguedad, dtype: object"
      ]
     },
     "execution_count": 346,
     "metadata": {},
     "output_type": "execute_result"
    }
   ],
   "source": [
    "dic_raw['antiguedad'].describe()"
   ]
  },
  {
   "cell_type": "code",
   "execution_count": 347,
   "metadata": {},
   "outputs": [],
   "source": [
    "# Creamos variables numéricas del año, mes y día de la semana en que se ha dado de alta el cliente\n",
    "dic_raw['ano_alta'] = dic_raw['antiguedad'].dt.year\n",
    "dic_raw['mes_alta'] = dic_raw['antiguedad'].dt.month\n",
    "dic_raw['dia_alta'] = dic_raw['antiguedad'].dt.dayofweek"
   ]
  },
  {
   "cell_type": "code",
   "execution_count": 348,
   "metadata": {},
   "outputs": [],
   "source": [
    "# Creamos el día de referencia para calcular antiguedad en días (1 de enero de 2020)\n",
    "age = pd.to_datetime('2020-01-01')\n",
    "# Calculamos la diferencia\n",
    "dif = age - dic_raw['antiguedad']\n",
    "# Extraémos solos los días en una nueva variable\n",
    "dic_raw['fidelidad'] = dif.dt.days"
   ]
  },
  {
   "cell_type": "markdown",
   "metadata": {},
   "source": [
    "**(2)** Provincia. Para el primer modelo base vamos a transformar automáticamente las categorías a números. En mejoras de modelo posiblemente hagamos cosas más intencionadas, de merecer la pena."
   ]
  },
  {
   "cell_type": "code",
   "execution_count": 349,
   "metadata": {},
   "outputs": [],
   "source": [
    "dic_raw['provincia'] = dic_raw['provincia'].astype('category')\n",
    "dic_raw['provincia'] = dic_raw['provincia'].cat.codes"
   ]
  },
  {
   "cell_type": "markdown",
   "metadata": {},
   "source": [
    "### Variables que esconden una numérica.\n",
    "En este apartado vamos a transformar `conexion`, que tiene 2 valores (*FIBRA* y *ADSL*), a numérica con valores 1 y 0, respectivamente. Luego, `vel_conexion` la transformamos a numérica eliminando la parte \"MB\" del string. Finalmente, `TV` se transformará a dummie, dejando como referencia a 'tv-total', que es la menos frecuente."
   ]
  },
  {
   "cell_type": "code",
   "execution_count": 350,
   "metadata": {},
   "outputs": [
    {
     "data": {
      "text/plain": [
       "tv-futbol      47535\n",
       "tv-familiar    33768\n",
       "tv-total       14164\n",
       "Name: TV, dtype: int64"
      ]
     },
     "execution_count": 350,
     "metadata": {},
     "output_type": "execute_result"
    }
   ],
   "source": [
    "pd.value_counts(dic_raw['TV'])"
   ]
  },
  {
   "cell_type": "markdown",
   "metadata": {},
   "source": [
    "**(1)** Conexión a dicotómica."
   ]
  },
  {
   "cell_type": "code",
   "execution_count": 351,
   "metadata": {},
   "outputs": [],
   "source": [
    "dic_raw['conexion'].replace(('FIBRA','ADSL'), (1,0), inplace=True)"
   ]
  },
  {
   "cell_type": "markdown",
   "metadata": {},
   "source": [
    "**(2)** Velocidad de conexión."
   ]
  },
  {
   "cell_type": "code",
   "execution_count": 352,
   "metadata": {},
   "outputs": [],
   "source": [
    "dic_raw['vel_conexion'] = dic_raw['vel_conexion'].str.strip('MB')\n",
    "dic_raw['vel_conexion'] = dic_raw['vel_conexion'].astype('int32')"
   ]
  },
  {
   "cell_type": "markdown",
   "metadata": {},
   "source": [
    "**(3)** TV, o tipo de servicio de TV."
   ]
  },
  {
   "cell_type": "code",
   "execution_count": 353,
   "metadata": {},
   "outputs": [],
   "source": [
    "tv_dummies = pd.get_dummies(dic_raw['TV'])\n",
    "dic_raw.insert(23, 'tv_familiar', tv_dummies['tv-familiar'])\n",
    "dic_raw.insert(24, 'tv_futbol', tv_dummies['tv-futbol'])"
   ]
  },
  {
   "cell_type": "markdown",
   "metadata": {},
   "source": [
    "#### Tras todas estas tranformaciones, ya tenemos un conjunto de datos depurado para realizar nuestro primer modelo de clasificación de clientes. Sólo resta construir la variable target, en el siguiente apartado."
   ]
  },
  {
   "cell_type": "markdown",
   "metadata": {},
   "source": [
    "# Construcción de *target*\n",
    "\n",
    "En este apartado vamos a construir y agregar la variable target al dataset de diciembre, para construir nuestro modelo basal de clasficación. Para ello, creamos un dataset con los id de enero más una columna rellena de 0, que luego cruzamos con los los id de diciembre, manteniendo todos los datos de diciembre: nos interesa saber qué id de diciembre siguen en enero. Allí donde la union ponga un 0 son clientes que se mantienen; donde aparezcan NaN son clientes perdidos (esos los tranformamos a 1, como presencia del atributo \"fuga\"). Finalmente, agregamos la variable target a los datos depurados de diciembre para comenzar con el modelo base."
   ]
  },
  {
   "cell_type": "code",
   "execution_count": 354,
   "metadata": {},
   "outputs": [],
   "source": [
    "# Creo el dataset de clientes de enero\n",
    "user_ene = pd.DataFrame(ene_raw['id'])\n",
    "user_ene['target'] = 0"
   ]
  },
  {
   "cell_type": "code",
   "execution_count": 355,
   "metadata": {},
   "outputs": [],
   "source": [
    "# Creamos la target, cruzando los id de diciembre con los de enero\n",
    "target = pd.merge(dic_raw['id'], user_ene, how='left', on='id')\n",
    "target['target'].fillna(1, inplace=True)"
   ]
  },
  {
   "cell_type": "markdown",
   "metadata": {},
   "source": [
    "> Al inspeccionar el resultado de `target`, podemos ver que entre diciembre de 2019 y enero de 2020 la compañía ha perdido 7.085 clientes, lo que representa poco menos de un 8% de su cartera. El gráfico ulterior muestra que la distribución de clientes según su permanencia está desigualmente distribuida.\n",
    "\n",
    "### Este dato es importantísimo para la construcción de la muestra de entrenamiento y testeo del modelo. En general, tenemos un porcentaje bastante menor de sucesos a detectar (valor 1 de target, fuga de clientes), por lo tendremos que tomar las medidas del caso para que el muestreo sea proporcional a dicha distribución."
   ]
  },
  {
   "cell_type": "code",
   "execution_count": 356,
   "metadata": {},
   "outputs": [
    {
     "data": {
      "text/plain": [
       "0.0    88382\n",
       "1.0     7085\n",
       "Name: target, dtype: int64"
      ]
     },
     "execution_count": 356,
     "metadata": {},
     "output_type": "execute_result"
    }
   ],
   "source": [
    "pd.value_counts(target['target'])\n",
    "# 7,4% dejan la compañía en enero 2020."
   ]
  },
  {
   "cell_type": "code",
   "execution_count": 357,
   "metadata": {},
   "outputs": [
    {
     "data": {
      "image/png": "[encoded data removed]",
      "text/plain": [
       "<Figure size 432x288 with 1 Axes>"
      ]
     },
     "metadata": {
      "needs_background": "light"
     },
     "output_type": "display_data"
    }
   ],
   "source": [
    "dist_target = sns.countplot(x='target', data=target, palette='RdBu')"
   ]
  },
  {
   "cell_type": "markdown",
   "metadata": {},
   "source": [
    "### Dataset diciembre depurado.\n",
    "Ahora creamos el dataset depurado que incorpora la `target` y eliminando la variable `antiguedad` que hemos utilizado para construir otras y `TV` que convertimos en *dummies*. Así, nuestro dataset final solo contiene features numeridos."
   ]
  },
  {
   "cell_type": "code",
   "execution_count": 358,
   "metadata": {},
   "outputs": [
    {
     "data": {
      "text/html": [
       "<div>\n",
       "<style scoped>\n",
       "    .dataframe tbody tr th:only-of-type {\n",
       "        vertical-align: middle;\n",
       "    }\n",
       "\n",
       "    .dataframe tbody tr th {\n",
       "        vertical-align: top;\n",
       "    }\n",
       "\n",
       "    .dataframe thead th {\n",
       "        text-align: right;\n",
       "    }\n",
       "</style>\n",
       "<table border=\"1\" class=\"dataframe\">\n",
       "  <thead>\n",
       "    <tr style=\"text-align: right;\">\n",
       "      <th></th>\n",
       "      <th>id</th>\n",
       "      <th>edad</th>\n",
       "      <th>facturacion</th>\n",
       "      <th>provincia</th>\n",
       "      <th>num_lineas</th>\n",
       "      <th>num_dt</th>\n",
       "      <th>incidencia</th>\n",
       "      <th>conexion</th>\n",
       "      <th>vel_conexion</th>\n",
       "      <th>num_llamad_ent</th>\n",
       "      <th>...</th>\n",
       "      <th>financiacion</th>\n",
       "      <th>imp_financ</th>\n",
       "      <th>descuentos</th>\n",
       "      <th>ano_alta</th>\n",
       "      <th>mes_alta</th>\n",
       "      <th>dia_alta</th>\n",
       "      <th>fidelidad</th>\n",
       "      <th>tv_familiar</th>\n",
       "      <th>tv_futbol</th>\n",
       "      <th>target</th>\n",
       "    </tr>\n",
       "  </thead>\n",
       "  <tbody>\n",
       "    <tr>\n",
       "      <th>count</th>\n",
       "      <td>95467.000000</td>\n",
       "      <td>95467.000000</td>\n",
       "      <td>95467.000000</td>\n",
       "      <td>95467.000000</td>\n",
       "      <td>95467.000000</td>\n",
       "      <td>95467.000000</td>\n",
       "      <td>95467.000000</td>\n",
       "      <td>95467.000000</td>\n",
       "      <td>95467.000000</td>\n",
       "      <td>95467.000000</td>\n",
       "      <td>...</td>\n",
       "      <td>95467.000000</td>\n",
       "      <td>95467.000000</td>\n",
       "      <td>95467.000000</td>\n",
       "      <td>95467.000000</td>\n",
       "      <td>95467.000000</td>\n",
       "      <td>95467.000000</td>\n",
       "      <td>95467.000000</td>\n",
       "      <td>95467.000000</td>\n",
       "      <td>95467.000000</td>\n",
       "      <td>95467.000000</td>\n",
       "    </tr>\n",
       "    <tr>\n",
       "      <th>mean</th>\n",
       "      <td>49994.256832</td>\n",
       "      <td>51.462086</td>\n",
       "      <td>207.392912</td>\n",
       "      <td>24.524328</td>\n",
       "      <td>3.558518</td>\n",
       "      <td>0.170530</td>\n",
       "      <td>0.054804</td>\n",
       "      <td>0.498256</td>\n",
       "      <td>136.517278</td>\n",
       "      <td>124.815633</td>\n",
       "      <td>...</td>\n",
       "      <td>0.066746</td>\n",
       "      <td>1.486331</td>\n",
       "      <td>0.200635</td>\n",
       "      <td>2006.976149</td>\n",
       "      <td>6.522589</td>\n",
       "      <td>3.001676</td>\n",
       "      <td>4573.466968</td>\n",
       "      <td>0.353714</td>\n",
       "      <td>0.497921</td>\n",
       "      <td>0.074214</td>\n",
       "    </tr>\n",
       "    <tr>\n",
       "      <th>std</th>\n",
       "      <td>28873.008865</td>\n",
       "      <td>19.590846</td>\n",
       "      <td>111.343491</td>\n",
       "      <td>14.453017</td>\n",
       "      <td>1.086095</td>\n",
       "      <td>0.694799</td>\n",
       "      <td>0.227599</td>\n",
       "      <td>0.500000</td>\n",
       "      <td>179.279833</td>\n",
       "      <td>72.492338</td>\n",
       "      <td>...</td>\n",
       "      <td>0.249582</td>\n",
       "      <td>6.148373</td>\n",
       "      <td>0.400477</td>\n",
       "      <td>7.194673</td>\n",
       "      <td>3.444165</td>\n",
       "      <td>1.997583</td>\n",
       "      <td>2630.422152</td>\n",
       "      <td>0.478124</td>\n",
       "      <td>0.499998</td>\n",
       "      <td>0.262120</td>\n",
       "    </tr>\n",
       "    <tr>\n",
       "      <th>min</th>\n",
       "      <td>1.000000</td>\n",
       "      <td>18.000000</td>\n",
       "      <td>15.000439</td>\n",
       "      <td>0.000000</td>\n",
       "      <td>1.000000</td>\n",
       "      <td>0.000000</td>\n",
       "      <td>0.000000</td>\n",
       "      <td>0.000000</td>\n",
       "      <td>10.000000</td>\n",
       "      <td>0.000000</td>\n",
       "      <td>...</td>\n",
       "      <td>0.000000</td>\n",
       "      <td>0.000000</td>\n",
       "      <td>0.000000</td>\n",
       "      <td>1995.000000</td>\n",
       "      <td>1.000000</td>\n",
       "      <td>0.000000</td>\n",
       "      <td>0.000000</td>\n",
       "      <td>0.000000</td>\n",
       "      <td>0.000000</td>\n",
       "      <td>0.000000</td>\n",
       "    </tr>\n",
       "    <tr>\n",
       "      <th>25%</th>\n",
       "      <td>24997.500000</td>\n",
       "      <td>35.000000</td>\n",
       "      <td>111.383822</td>\n",
       "      <td>12.000000</td>\n",
       "      <td>3.000000</td>\n",
       "      <td>0.000000</td>\n",
       "      <td>0.000000</td>\n",
       "      <td>0.000000</td>\n",
       "      <td>20.000000</td>\n",
       "      <td>62.000000</td>\n",
       "      <td>...</td>\n",
       "      <td>0.000000</td>\n",
       "      <td>0.000000</td>\n",
       "      <td>0.000000</td>\n",
       "      <td>2001.000000</td>\n",
       "      <td>4.000000</td>\n",
       "      <td>1.000000</td>\n",
       "      <td>2309.000000</td>\n",
       "      <td>0.000000</td>\n",
       "      <td>0.000000</td>\n",
       "      <td>0.000000</td>\n",
       "    </tr>\n",
       "    <tr>\n",
       "      <th>50%</th>\n",
       "      <td>49970.000000</td>\n",
       "      <td>51.000000</td>\n",
       "      <td>206.808431</td>\n",
       "      <td>25.000000</td>\n",
       "      <td>4.000000</td>\n",
       "      <td>0.000000</td>\n",
       "      <td>0.000000</td>\n",
       "      <td>0.000000</td>\n",
       "      <td>35.000000</td>\n",
       "      <td>124.000000</td>\n",
       "      <td>...</td>\n",
       "      <td>0.000000</td>\n",
       "      <td>0.000000</td>\n",
       "      <td>0.000000</td>\n",
       "      <td>2007.000000</td>\n",
       "      <td>7.000000</td>\n",
       "      <td>3.000000</td>\n",
       "      <td>4587.000000</td>\n",
       "      <td>0.000000</td>\n",
       "      <td>0.000000</td>\n",
       "      <td>0.000000</td>\n",
       "    </tr>\n",
       "    <tr>\n",
       "      <th>75%</th>\n",
       "      <td>75021.500000</td>\n",
       "      <td>68.000000</td>\n",
       "      <td>304.436599</td>\n",
       "      <td>37.000000</td>\n",
       "      <td>4.000000</td>\n",
       "      <td>0.000000</td>\n",
       "      <td>0.000000</td>\n",
       "      <td>1.000000</td>\n",
       "      <td>200.000000</td>\n",
       "      <td>188.000000</td>\n",
       "      <td>...</td>\n",
       "      <td>0.000000</td>\n",
       "      <td>0.000000</td>\n",
       "      <td>0.000000</td>\n",
       "      <td>2013.000000</td>\n",
       "      <td>10.000000</td>\n",
       "      <td>5.000000</td>\n",
       "      <td>6851.000000</td>\n",
       "      <td>1.000000</td>\n",
       "      <td>1.000000</td>\n",
       "      <td>0.000000</td>\n",
       "    </tr>\n",
       "    <tr>\n",
       "      <th>max</th>\n",
       "      <td>100000.000000</td>\n",
       "      <td>85.000000</td>\n",
       "      <td>399.998433</td>\n",
       "      <td>49.000000</td>\n",
       "      <td>5.000000</td>\n",
       "      <td>4.000000</td>\n",
       "      <td>1.000000</td>\n",
       "      <td>1.000000</td>\n",
       "      <td>600.000000</td>\n",
       "      <td>250.000000</td>\n",
       "      <td>...</td>\n",
       "      <td>1.000000</td>\n",
       "      <td>39.990128</td>\n",
       "      <td>1.000000</td>\n",
       "      <td>2019.000000</td>\n",
       "      <td>12.000000</td>\n",
       "      <td>6.000000</td>\n",
       "      <td>9130.000000</td>\n",
       "      <td>1.000000</td>\n",
       "      <td>1.000000</td>\n",
       "      <td>1.000000</td>\n",
       "    </tr>\n",
       "  </tbody>\n",
       "</table>\n",
       "<p>8 rows × 24 columns</p>\n",
       "</div>"
      ],
      "text/plain": [
       "                  id          edad   facturacion     provincia    num_lineas  \\\n",
       "count   95467.000000  95467.000000  95467.000000  95467.000000  95467.000000   \n",
       "mean    49994.256832     51.462086    207.392912     24.524328      3.558518   \n",
       "std     28873.008865     19.590846    111.343491     14.453017      1.086095   \n",
       "min         1.000000     18.000000     15.000439      0.000000      1.000000   \n",
       "25%     24997.500000     35.000000    111.383822     12.000000      3.000000   \n",
       "50%     49970.000000     51.000000    206.808431     25.000000      4.000000   \n",
       "75%     75021.500000     68.000000    304.436599     37.000000      4.000000   \n",
       "max    100000.000000     85.000000    399.998433     49.000000      5.000000   \n",
       "\n",
       "             num_dt    incidencia      conexion  vel_conexion  num_llamad_ent  \\\n",
       "count  95467.000000  95467.000000  95467.000000  95467.000000    95467.000000   \n",
       "mean       0.170530      0.054804      0.498256    136.517278      124.815633   \n",
       "std        0.694799      0.227599      0.500000    179.279833       72.492338   \n",
       "min        0.000000      0.000000      0.000000     10.000000        0.000000   \n",
       "25%        0.000000      0.000000      0.000000     20.000000       62.000000   \n",
       "50%        0.000000      0.000000      0.000000     35.000000      124.000000   \n",
       "75%        0.000000      0.000000      1.000000    200.000000      188.000000   \n",
       "max        4.000000      1.000000      1.000000    600.000000      250.000000   \n",
       "\n",
       "       ...  financiacion    imp_financ    descuentos      ano_alta  \\\n",
       "count  ...  95467.000000  95467.000000  95467.000000  95467.000000   \n",
       "mean   ...      0.066746      1.486331      0.200635   2006.976149   \n",
       "std    ...      0.249582      6.148373      0.400477      7.194673   \n",
       "min    ...      0.000000      0.000000      0.000000   1995.000000   \n",
       "25%    ...      0.000000      0.000000      0.000000   2001.000000   \n",
       "50%    ...      0.000000      0.000000      0.000000   2007.000000   \n",
       "75%    ...      0.000000      0.000000      0.000000   2013.000000   \n",
       "max    ...      1.000000     39.990128      1.000000   2019.000000   \n",
       "\n",
       "           mes_alta      dia_alta     fidelidad   tv_familiar     tv_futbol  \\\n",
       "count  95467.000000  95467.000000  95467.000000  95467.000000  95467.000000   \n",
       "mean       6.522589      3.001676   4573.466968      0.353714      0.497921   \n",
       "std        3.444165      1.997583   2630.422152      0.478124      0.499998   \n",
       "min        1.000000      0.000000      0.000000      0.000000      0.000000   \n",
       "25%        4.000000      1.000000   2309.000000      0.000000      0.000000   \n",
       "50%        7.000000      3.000000   4587.000000      0.000000      0.000000   \n",
       "75%       10.000000      5.000000   6851.000000      1.000000      1.000000   \n",
       "max       12.000000      6.000000   9130.000000      1.000000      1.000000   \n",
       "\n",
       "             target  \n",
       "count  95467.000000  \n",
       "mean       0.074214  \n",
       "std        0.262120  \n",
       "min        0.000000  \n",
       "25%        0.000000  \n",
       "50%        0.000000  \n",
       "75%        0.000000  \n",
       "max        1.000000  \n",
       "\n",
       "[8 rows x 24 columns]"
      ]
     },
     "execution_count": 358,
     "metadata": {},
     "output_type": "execute_result"
    }
   ],
   "source": [
    "data_dic = dic_raw.copy(deep = True)\n",
    "data_dic = pd.merge(data_dic, target, how='left', on='id')\n",
    "del data_dic['antiguedad']\n",
    "del data_dic['TV']\n",
    "data_dic.describe(include='all')"
   ]
  },
  {
   "cell_type": "code",
   "execution_count": 359,
   "metadata": {},
   "outputs": [
    {
     "name": "stdout",
     "output_type": "stream",
     "text": [
      "<class 'pandas.core.frame.DataFrame'>\n",
      "Int64Index: 95467 entries, 0 to 95466\n",
      "Data columns (total 24 columns):\n",
      " #   Column          Non-Null Count  Dtype  \n",
      "---  ------          --------------  -----  \n",
      " 0   id              95467 non-null  int64  \n",
      " 1   edad            95467 non-null  int64  \n",
      " 2   facturacion     95467 non-null  float64\n",
      " 3   provincia       95467 non-null  int8   \n",
      " 4   num_lineas      95467 non-null  int64  \n",
      " 5   num_dt          95467 non-null  float64\n",
      " 6   incidencia      95467 non-null  float64\n",
      " 7   conexion        95467 non-null  int64  \n",
      " 8   vel_conexion    95467 non-null  int32  \n",
      " 9   num_llamad_ent  95467 non-null  int64  \n",
      " 10  num_llamad_sal  95467 non-null  int64  \n",
      " 11  mb_datos        95467 non-null  int64  \n",
      " 12  seg_llamad_ent  95467 non-null  int64  \n",
      " 13  seg_llamad_sal  95467 non-null  int64  \n",
      " 14  financiacion    95467 non-null  float64\n",
      " 15  imp_financ      95467 non-null  float64\n",
      " 16  descuentos      95467 non-null  float64\n",
      " 17  ano_alta        95467 non-null  int64  \n",
      " 18  mes_alta        95467 non-null  int64  \n",
      " 19  dia_alta        95467 non-null  int64  \n",
      " 20  fidelidad       95467 non-null  int64  \n",
      " 21  tv_familiar     95467 non-null  uint8  \n",
      " 22  tv_futbol       95467 non-null  uint8  \n",
      " 23  target          95467 non-null  float64\n",
      "dtypes: float64(7), int32(1), int64(13), int8(1), uint8(2)\n",
      "memory usage: 15.9 MB\n"
     ]
    }
   ],
   "source": [
    "data_dic.info()"
   ]
  },
  {
   "cell_type": "markdown",
   "metadata": {},
   "source": [
    "### Exploración del conjunto de datos.\n",
    "Con objeto de explorar las interacciones entre las variables del conjunto de datos, en este último subapartado del EDA y depuración visualizaremos algunas relaciones entre variables con miras a describir cuáles podrían ser las variables más importantes para el modelo buscado.\n",
    "\n",
    "En este sentido, los gráficos posteriores nos indican que serían muy pocas variables las que jugarían un papel importante en el modelo. Por ejemplo, algunas variables que discriminan respecto a la `target` podrían ser `fidelidad` (cantidad de días desde el alta del cliente), `mes_alta` y `ano_alta`. No obstante esta asociación no es muy clara.\n",
    "\n",
    "Ahora bien, `incidencia` es un claro discriminador a la hora de clasificar a los clientes de diciembre: **alrededor de un 60% de los clientes que reportan incidencia dejaron la compañía en enero**. De igual modo, **el tener líneas impagas** también aumenta la probabilidad de dejar la compañía en un 60% (con independencia del número de líneas). Finalmente, podemos ver que la variable `descuento` es totalmente determinante: **el 100% de clientes que han dejado la compañía no tienen descuento**, o dicho de otra forma, si tienes descuento no dejas la compañía.\n",
    "\n",
    "Con estos datos podemos interpretar de mejor manera el modelo base."
   ]
  },
  {
   "cell_type": "code",
   "execution_count": 360,
   "metadata": {},
   "outputs": [
    {
     "data": {
      "image/png": "[encoded data removed]",
      "text/plain": [
       "<Figure size 432x288 with 4 Axes>"
      ]
     },
     "metadata": {
      "needs_background": "light"
     },
     "output_type": "display_data"
    }
   ],
   "source": [
    "figure, axes = plt.subplots(nrows=1, ncols=4)\n",
    "plt.subplot(1, 4, 1)\n",
    "sns.boxplot(x='target', y='vel_conexion', data=data_dic, palette='rainbow')\n",
    "plt.subplot(1, 4, 2)\n",
    "sns.boxplot(x='target', y='fidelidad', data=data_dic, palette='rainbow')\n",
    "plt.subplot(1, 4, 3)\n",
    "sns.boxplot(x='target', y='mes_alta', data=data_dic, palette='rainbow')\n",
    "plt.subplot(1, 4, 4)\n",
    "sns.boxplot(x='target', y='ano_alta', data=data_dic, palette='rainbow')\n",
    "figure.tight_layout(pad=1)"
   ]
  },
  {
   "cell_type": "code",
   "execution_count": 361,
   "metadata": {},
   "outputs": [
    {
     "data": {
      "text/plain": [
       "<matplotlib.axes._subplots.AxesSubplot at 0x1a266bfd10>"
      ]
     },
     "execution_count": 361,
     "metadata": {},
     "output_type": "execute_result"
    },
    {
     "data": {
      "image/png": "[encoded data removed]",
      "text/plain": [
       "<Figure size 432x288 with 1 Axes>"
      ]
     },
     "metadata": {
      "needs_background": "light"
     },
     "output_type": "display_data"
    }
   ],
   "source": [
    "table=pd.crosstab(data_dic.incidencia,data_dic.target)\n",
    "table.div(table.sum(1).astype(float), axis=0).plot(kind='bar', stacked=True)"
   ]
  },
  {
   "cell_type": "code",
   "execution_count": 362,
   "metadata": {},
   "outputs": [
    {
     "data": {
      "text/plain": [
       "<matplotlib.axes._subplots.AxesSubplot at 0x1a2833d290>"
      ]
     },
     "execution_count": 362,
     "metadata": {},
     "output_type": "execute_result"
    },
    {
     "data": {
      "image/png": "[encoded data removed]",
      "text/plain": [
       "<Figure size 432x288 with 1 Axes>"
      ]
     },
     "metadata": {
      "needs_background": "light"
     },
     "output_type": "display_data"
    }
   ],
   "source": [
    "table=pd.crosstab(data_dic.num_dt,data_dic.target)\n",
    "table.div(table.sum(1).astype(float), axis=0).plot(kind='bar', stacked=True)"
   ]
  },
  {
   "cell_type": "code",
   "execution_count": 363,
   "metadata": {},
   "outputs": [
    {
     "data": {
      "text/plain": [
       "<matplotlib.axes._subplots.AxesSubplot at 0x1a2ca67ad0>"
      ]
     },
     "execution_count": 363,
     "metadata": {},
     "output_type": "execute_result"
    },
    {
     "data": {
      "image/png": "[encoded data removed]",
      "text/plain": [
       "<Figure size 432x288 with 1 Axes>"
      ]
     },
     "metadata": {
      "needs_background": "light"
     },
     "output_type": "display_data"
    }
   ],
   "source": [
    "table=pd.crosstab(data_dic.descuentos,data_dic.target)\n",
    "table.div(table.sum(1).astype(float), axis=0).plot(kind='bar', stacked=True)"
   ]
  },
  {
   "cell_type": "markdown",
   "metadata": {},
   "source": [
    "# Modelo de clasificación\n",
    "\n",
    "### (a) Primera aproximación: regresión logística.\n",
    "La aproximación inicial al ejercicio será a través de una regresión logística. La regresión logística es un tipo de modelo lineal generalizado (*GLM*), que a diferencia de la regresión lineal -que premite predecir un valor objetivo o target-, utiliza la función logit como función de enlace para predecir ya no un valor sino **la probabilidad de evento frente a la probabilidad de no evento**. La función o transformación logit, sabemos, se utiliza como *enlace* para restringir los valores de la predicción al intervalo 0 - 1 (que es el intervalo compatible con el concepto de probabilidad). Otras funciones de distribución que son utilizadas como enlace son la distribución normal y la distribución gumbel. Dada su mayor facilidad de interpretación, la función logit es más utilizada.\n",
    "\n",
    "A partir de la **matriz de confusión**, la regresión logística (y todos los modelos de clasificación en general -usaremos los mismos más tarde) tiene cinco criterios de evaluación bastante generalizados (hay más, que describiremos más tarde cuando identifiquemos el mejor modelo logit):\n",
    "\n",
    "+ **accuracy** o validez: en modelos supervisados (en que conocemos la *realidad*), describe la capacidad que tiene el modelo para que sus predicciones coincidan los valores observados o reales. Dicho de otra forma, mide la bondad de un modelo de clasificación como la proporción de resultados verdaderos con respecto al total de casos.\n",
    "+ **precision** o precisión: describe la capacidad que tiene el modelo para que sus predicciones coincidan con la ocurrencia del evento. Es decir, es la proporción de resultados verdaderos sobre todos los resultados positivos.\n",
    "+ **recall** o exhaustividad: es la fracción de todos los resultados correctos devueltos por el modelo.\n",
    "+ **F1** o valor-F: se calcula como el promedio ponderado de *precision* y *recall* entre 0 y 1, donde el valor ideal de puntaje F es 1.\n",
    "+ **Curva ROC y AUC**: mide el área bajo la curva trazada con positivos verdaderos en el eje y, y falsos positivos en el eje x. Esta métrica es útil porque proporciona un número único que permite comparar modelos de diferentes tipos.\n",
    "\n",
    "\n",
    "**Nota:** El escalado o normalización de las variables a introducir en el modelo no es una exigencia, pero por algún motivo la función `LogisticRegression` de `sklearn` no puede con este conjunto de datos sin escalado (incluso, sugiere llevar a cabo ese procedimiento)."
   ]
  },
  {
   "cell_type": "code",
   "execution_count": 364,
   "metadata": {},
   "outputs": [],
   "source": [
    "# Dividimos target de features\n",
    "target = data_dic['target']\n",
    "features = data_dic[['edad', 'facturacion', 'provincia', 'num_lineas', 'num_dt',\n",
    "       'incidencia', 'conexion', 'vel_conexion', 'num_llamad_ent',\n",
    "       'num_llamad_sal', 'mb_datos', 'seg_llamad_ent', 'seg_llamad_sal',\n",
    "       'financiacion', 'imp_financ', 'descuentos', 'ano_alta', 'mes_alta',\n",
    "       'dia_alta', 'fidelidad', 'tv_familiar', 'tv_futbol']] "
   ]
  },
  {
   "cell_type": "code",
   "execution_count": 365,
   "metadata": {},
   "outputs": [],
   "source": [
    "# Escalado de features\n",
    "from sklearn.preprocessing import StandardScaler\n",
    "scaler = StandardScaler()\n",
    "scaled_features = scaler.fit_transform(features)\n",
    "scaled_features = pd.DataFrame(scaled_features, columns = features.columns)"
   ]
  },
  {
   "cell_type": "code",
   "execution_count": 366,
   "metadata": {},
   "outputs": [
    {
     "data": {
      "text/html": [
       "<div>\n",
       "<style scoped>\n",
       "    .dataframe tbody tr th:only-of-type {\n",
       "        vertical-align: middle;\n",
       "    }\n",
       "\n",
       "    .dataframe tbody tr th {\n",
       "        vertical-align: top;\n",
       "    }\n",
       "\n",
       "    .dataframe thead th {\n",
       "        text-align: right;\n",
       "    }\n",
       "</style>\n",
       "<table border=\"1\" class=\"dataframe\">\n",
       "  <thead>\n",
       "    <tr style=\"text-align: right;\">\n",
       "      <th></th>\n",
       "      <th>edad</th>\n",
       "      <th>facturacion</th>\n",
       "      <th>provincia</th>\n",
       "      <th>num_lineas</th>\n",
       "      <th>num_dt</th>\n",
       "      <th>incidencia</th>\n",
       "      <th>conexion</th>\n",
       "      <th>vel_conexion</th>\n",
       "      <th>num_llamad_ent</th>\n",
       "      <th>num_llamad_sal</th>\n",
       "      <th>...</th>\n",
       "      <th>seg_llamad_sal</th>\n",
       "      <th>financiacion</th>\n",
       "      <th>imp_financ</th>\n",
       "      <th>descuentos</th>\n",
       "      <th>ano_alta</th>\n",
       "      <th>mes_alta</th>\n",
       "      <th>dia_alta</th>\n",
       "      <th>fidelidad</th>\n",
       "      <th>tv_familiar</th>\n",
       "      <th>tv_futbol</th>\n",
       "    </tr>\n",
       "  </thead>\n",
       "  <tbody>\n",
       "    <tr>\n",
       "      <th>0</th>\n",
       "      <td>0.588947</td>\n",
       "      <td>0.077555</td>\n",
       "      <td>-0.105468</td>\n",
       "      <td>1.327223</td>\n",
       "      <td>-0.245439</td>\n",
       "      <td>-0.240794</td>\n",
       "      <td>1.003494</td>\n",
       "      <td>-0.482585</td>\n",
       "      <td>-0.204376</td>\n",
       "      <td>0.995106</td>\n",
       "      <td>...</td>\n",
       "      <td>0.645657</td>\n",
       "      <td>-0.267431</td>\n",
       "      <td>-0.241745</td>\n",
       "      <td>-0.500992</td>\n",
       "      <td>1.532232</td>\n",
       "      <td>1.300006</td>\n",
       "      <td>0.499769</td>\n",
       "      <td>-1.585483</td>\n",
       "      <td>-0.739799</td>\n",
       "      <td>1.004167</td>\n",
       "    </tr>\n",
       "    <tr>\n",
       "      <th>1</th>\n",
       "      <td>1.660882</td>\n",
       "      <td>0.435034</td>\n",
       "      <td>1.416713</td>\n",
       "      <td>-0.514247</td>\n",
       "      <td>-0.245439</td>\n",
       "      <td>-0.240794</td>\n",
       "      <td>1.003494</td>\n",
       "      <td>2.585261</td>\n",
       "      <td>0.885400</td>\n",
       "      <td>1.338515</td>\n",
       "      <td>...</td>\n",
       "      <td>0.144398</td>\n",
       "      <td>-0.267431</td>\n",
       "      <td>-0.241745</td>\n",
       "      <td>1.996041</td>\n",
       "      <td>1.393240</td>\n",
       "      <td>0.428963</td>\n",
       "      <td>-1.002054</td>\n",
       "      <td>-1.411365</td>\n",
       "      <td>-0.739799</td>\n",
       "      <td>1.004167</td>\n",
       "    </tr>\n",
       "    <tr>\n",
       "      <th>2</th>\n",
       "      <td>0.742081</td>\n",
       "      <td>-0.643281</td>\n",
       "      <td>-1.696840</td>\n",
       "      <td>0.406488</td>\n",
       "      <td>-0.245439</td>\n",
       "      <td>-0.240794</td>\n",
       "      <td>-0.996518</td>\n",
       "      <td>-0.566253</td>\n",
       "      <td>0.057722</td>\n",
       "      <td>-0.687601</td>\n",
       "      <td>...</td>\n",
       "      <td>1.164787</td>\n",
       "      <td>-0.267431</td>\n",
       "      <td>-0.241745</td>\n",
       "      <td>1.996041</td>\n",
       "      <td>-0.830640</td>\n",
       "      <td>1.590353</td>\n",
       "      <td>-0.000839</td>\n",
       "      <td>0.762062</td>\n",
       "      <td>-0.739799</td>\n",
       "      <td>1.004167</td>\n",
       "    </tr>\n",
       "    <tr>\n",
       "      <th>3</th>\n",
       "      <td>0.895214</td>\n",
       "      <td>0.433486</td>\n",
       "      <td>0.102102</td>\n",
       "      <td>0.406488</td>\n",
       "      <td>-0.245439</td>\n",
       "      <td>-0.240794</td>\n",
       "      <td>1.003494</td>\n",
       "      <td>0.354100</td>\n",
       "      <td>-1.018260</td>\n",
       "      <td>0.067900</td>\n",
       "      <td>...</td>\n",
       "      <td>-0.565415</td>\n",
       "      <td>-0.267431</td>\n",
       "      <td>-0.241745</td>\n",
       "      <td>-0.500992</td>\n",
       "      <td>1.115255</td>\n",
       "      <td>0.428963</td>\n",
       "      <td>1.000376</td>\n",
       "      <td>-1.128139</td>\n",
       "      <td>1.351719</td>\n",
       "      <td>-0.995850</td>\n",
       "    </tr>\n",
       "    <tr>\n",
       "      <th>4</th>\n",
       "      <td>-1.350744</td>\n",
       "      <td>-1.662343</td>\n",
       "      <td>1.070763</td>\n",
       "      <td>-1.434982</td>\n",
       "      <td>2.633107</td>\n",
       "      <td>-0.240794</td>\n",
       "      <td>-0.996518</td>\n",
       "      <td>-0.705701</td>\n",
       "      <td>0.802632</td>\n",
       "      <td>-1.614806</td>\n",
       "      <td>...</td>\n",
       "      <td>-0.962050</td>\n",
       "      <td>-0.267431</td>\n",
       "      <td>-0.241745</td>\n",
       "      <td>-0.500992</td>\n",
       "      <td>-1.386609</td>\n",
       "      <td>0.428963</td>\n",
       "      <td>0.499769</td>\n",
       "      <td>1.363109</td>\n",
       "      <td>-0.739799</td>\n",
       "      <td>1.004167</td>\n",
       "    </tr>\n",
       "  </tbody>\n",
       "</table>\n",
       "<p>5 rows × 22 columns</p>\n",
       "</div>"
      ],
      "text/plain": [
       "       edad  facturacion  provincia  num_lineas    num_dt  incidencia  \\\n",
       "0  0.588947     0.077555  -0.105468    1.327223 -0.245439   -0.240794   \n",
       "1  1.660882     0.435034   1.416713   -0.514247 -0.245439   -0.240794   \n",
       "2  0.742081    -0.643281  -1.696840    0.406488 -0.245439   -0.240794   \n",
       "3  0.895214     0.433486   0.102102    0.406488 -0.245439   -0.240794   \n",
       "4 -1.350744    -1.662343   1.070763   -1.434982  2.633107   -0.240794   \n",
       "\n",
       "   conexion  vel_conexion  num_llamad_ent  num_llamad_sal  ...  \\\n",
       "0  1.003494     -0.482585       -0.204376        0.995106  ...   \n",
       "1  1.003494      2.585261        0.885400        1.338515  ...   \n",
       "2 -0.996518     -0.566253        0.057722       -0.687601  ...   \n",
       "3  1.003494      0.354100       -1.018260        0.067900  ...   \n",
       "4 -0.996518     -0.705701        0.802632       -1.614806  ...   \n",
       "\n",
       "   seg_llamad_sal  financiacion  imp_financ  descuentos  ano_alta  mes_alta  \\\n",
       "0        0.645657     -0.267431   -0.241745   -0.500992  1.532232  1.300006   \n",
       "1        0.144398     -0.267431   -0.241745    1.996041  1.393240  0.428963   \n",
       "2        1.164787     -0.267431   -0.241745    1.996041 -0.830640  1.590353   \n",
       "3       -0.565415     -0.267431   -0.241745   -0.500992  1.115255  0.428963   \n",
       "4       -0.962050     -0.267431   -0.241745   -0.500992 -1.386609  0.428963   \n",
       "\n",
       "   dia_alta  fidelidad  tv_familiar  tv_futbol  \n",
       "0  0.499769  -1.585483    -0.739799   1.004167  \n",
       "1 -1.002054  -1.411365    -0.739799   1.004167  \n",
       "2 -0.000839   0.762062    -0.739799   1.004167  \n",
       "3  1.000376  -1.128139     1.351719  -0.995850  \n",
       "4  0.499769   1.363109    -0.739799   1.004167  \n",
       "\n",
       "[5 rows x 22 columns]"
      ]
     },
     "execution_count": 366,
     "metadata": {},
     "output_type": "execute_result"
    }
   ],
   "source": [
    "scaled_features.head()"
   ]
  },
  {
   "cell_type": "code",
   "execution_count": 367,
   "metadata": {},
   "outputs": [],
   "source": [
    "# Creamos los conjuntos de datos de train y test, con datos escalados.\n",
    "X_train, X_test, y_train, y_test = train_test_split(scaled_features,\n",
    "                                                    target,\n",
    "                                                    test_size=0.3,\n",
    "                                                    stratify = target)"
   ]
  },
  {
   "cell_type": "markdown",
   "metadata": {},
   "source": [
    "### Modelo logit 1 (todas las variables)"
   ]
  },
  {
   "cell_type": "code",
   "execution_count": 368,
   "metadata": {},
   "outputs": [],
   "source": [
    "# Entrenamos nuestro modelo base de regresión\n",
    "mod_logit_base = LogisticRegression().fit(X_train, y_train)\n",
    "# Construimos la predicción con el modelo 1\n",
    "y_pred_logit = mod_logit_base.predict(X_test)"
   ]
  },
  {
   "cell_type": "code",
   "execution_count": 369,
   "metadata": {},
   "outputs": [],
   "source": [
    "# Definimos función para explorar las métricas de los modelos.\n",
    "def saca_metricas(y1, y2):\n",
    "    print('Matriz de confusión')\n",
    "    print(confusion_matrix(y1, y2))\n",
    "    print('Accuracy')\n",
    "    print(accuracy_score(y1, y2))\n",
    "    print('Precision')\n",
    "    print(precision_score(y1, y2))\n",
    "    print('Recall')\n",
    "    print(recall_score(y1, y2))\n",
    "    print('F1')\n",
    "    print(f1_score(y1, y2))\n",
    "    false_positive_rate, recall, thresholds = roc_curve(y1, y2)\n",
    "    roc_auc = auc(false_positive_rate, recall)\n",
    "    print('AUC')\n",
    "    print(roc_auc)\n",
    "    plt.plot(false_positive_rate, recall, 'b')\n",
    "    plt.plot([0, 1], [0, 1], 'r--')\n",
    "    plt.title('AUC = %0.2f' % roc_auc)"
   ]
  },
  {
   "cell_type": "markdown",
   "metadata": {},
   "source": [
    "##### El modelo que hemos llamado \"base\" es ciertamente bastante bueno. Con un proceso de depuración básico y un feature engineering sencillo (creación de dummies) el modelo obtiene una validez o **accuracy** de 97,4%, y un **área bajo la curva (AUC)** de 91,9%. \n",
    "\n",
    "##### Luego, si observamos la importancia de las variables en este modelo, vemos que sólo 5 aportan información (ya lo veíamos antes con en EDA): `num_dt`, `incidencia`, `financiacion`, `imp_financ` y `descuentos`. Ahora, sabemos que `descuentos` tiene una importancia desproporcionada. De hecho, el modelo probablemente sufra sesgos con esta variable, pues todos sus valores 1 (que cliente tiene descuento) serán interpretado como ausencia de evento `target`. Vamos a construir un segundo modelo sin `descuento`, con las otras cuatro variables, y evaluar si obtenemos un modelo igual de bueno pero más sencillo."
   ]
  },
  {
   "cell_type": "code",
   "execution_count": 370,
   "metadata": {},
   "outputs": [
    {
     "name": "stdout",
     "output_type": "stream",
     "text": [
      "Matriz de confusión\n",
      "[[26122   393]\n",
      " [  309  1817]]\n",
      "Accuracy\n",
      "0.9754896826228134\n",
      "Precision\n",
      "0.8221719457013574\n",
      "Recall\n",
      "0.8546566321730951\n",
      "F1\n",
      "0.8380996309963099\n",
      "AUC\n",
      "0.9199174165956933\n"
     ]
    },
    {
     "data": {
      "image/png": "[encoded data removed]",
      "text/plain": [
       "<Figure size 432x288 with 1 Axes>"
      ]
     },
     "metadata": {
      "needs_background": "light"
     },
     "output_type": "display_data"
    }
   ],
   "source": [
    "# Inspección:\n",
    "saca_metricas(y_test, y_pred_logit)"
   ]
  },
  {
   "cell_type": "code",
   "execution_count": 371,
   "metadata": {},
   "outputs": [
    {
     "name": "stdout",
     "output_type": "stream",
     "text": [
      "Feature: 0, Score: 0.01428\n",
      "Feature: 1, Score: 0.00020\n",
      "Feature: 2, Score: 0.00255\n",
      "Feature: 3, Score: 0.02100\n",
      "Feature: 4, Score: 1.58566\n",
      "Feature: 5, Score: 1.31401\n",
      "Feature: 6, Score: -0.01337\n",
      "Feature: 7, Score: 0.02108\n",
      "Feature: 8, Score: 0.08212\n",
      "Feature: 9, Score: 0.00079\n",
      "Feature: 10, Score: 0.02265\n",
      "Feature: 11, Score: 0.03384\n",
      "Feature: 12, Score: -0.03546\n",
      "Feature: 13, Score: -1.41189\n",
      "Feature: 14, Score: -0.72273\n",
      "Feature: 15, Score: -4.39976\n",
      "Feature: 16, Score: 0.01186\n",
      "Feature: 17, Score: -0.02671\n",
      "Feature: 18, Score: 0.02734\n",
      "Feature: 19, Score: -0.00859\n",
      "Feature: 20, Score: -0.07255\n",
      "Feature: 21, Score: -0.05089\n"
     ]
    },
    {
     "data": {
      "image/png": "[encoded data removed]",
      "text/plain": [
       "<Figure size 432x288 with 1 Axes>"
      ]
     },
     "metadata": {
      "needs_background": "light"
     },
     "output_type": "display_data"
    }
   ],
   "source": [
    "# Importancia de los features\n",
    "var_logit_importance = mod_logit_base.coef_[0]\n",
    "\n",
    "# Agrupar importancia\n",
    "for i,v in enumerate(var_logit_importance):\n",
    "    print('Feature: %0d, Score: %.5f' % (i,v))\n",
    "    \n",
    "# Graficamos la importancia de variables.\n",
    "pyplot.bar([x for x in range(len(var_logit_importance))], var_logit_importance)\n",
    "pyplot.show()"
   ]
  },
  {
   "cell_type": "markdown",
   "metadata": {},
   "source": [
    "### Modelo logit 2 (sólo 4 variables)\n",
    "\n",
    "Entrenaremos un modelo con las 4 variables más importantes, quitando `descuentos`. La idea es probar si este modelo sigue siendo tan bueno como el base, pero con menos parámetros, y quitando una variable que era demasiado importante pero que estaba muy mal distribuida entre la `target` (no tiene registros entre los no-`target` o que no se van de la compañía)."
   ]
  },
  {
   "cell_type": "code",
   "execution_count": 372,
   "metadata": {},
   "outputs": [],
   "source": [
    "# Entrenar modelo con 4 variables\n",
    "mod_logit_min = LogisticRegression().fit(X_train[['num_dt','incidencia','financiacion','imp_financ']], y_train)\n",
    "\n",
    "# Construir predicción\n",
    "y_pred_logit2 = mod_logit_min.predict(X_test[['num_dt','incidencia','financiacion','imp_financ']])"
   ]
  },
  {
   "cell_type": "markdown",
   "metadata": {},
   "source": [
    "##### El modelo más sencillo es bastante aceptable. Sigue teniendo un **accuracy** elevado (95%) pero pierde bastante capacidad de identificar eventos (AUC 84%) y baja bastante el valor F1. Por lo tanto, construiremos un tercer modelo con `descuentos`, pues 5 variables tampoco es excesivo."
   ]
  },
  {
   "cell_type": "code",
   "execution_count": 373,
   "metadata": {},
   "outputs": [
    {
     "name": "stdout",
     "output_type": "stream",
     "text": [
      "Matriz de confusión\n",
      "[[25728   787]\n",
      " [  569  1557]]\n",
      "Accuracy\n",
      "0.9526552843825286\n",
      "Precision\n",
      "0.6642491467576792\n",
      "Recall\n",
      "0.7323612417685795\n",
      "F1\n",
      "0.6966442953020134\n",
      "AUC\n",
      "0.8513399646519684\n"
     ]
    },
    {
     "data": {
      "image/png": "[encoded data removed]",
      "text/plain": [
       "<Figure size 432x288 with 1 Axes>"
      ]
     },
     "metadata": {
      "needs_background": "light"
     },
     "output_type": "display_data"
    }
   ],
   "source": [
    "# Inspección:\n",
    "saca_metricas(y_test, y_pred_logit2)"
   ]
  },
  {
   "cell_type": "code",
   "execution_count": 374,
   "metadata": {},
   "outputs": [
    {
     "name": "stdout",
     "output_type": "stream",
     "text": [
      "Feature: 0, Score: 1.16000\n",
      "Feature: 1, Score: 1.10957\n",
      "Feature: 2, Score: -1.07386\n",
      "Feature: 3, Score: -0.50939\n"
     ]
    },
    {
     "data": {
      "image/png": "[encoded data removed]",
      "text/plain": [
       "<Figure size 432x288 with 1 Axes>"
      ]
     },
     "metadata": {
      "needs_background": "light"
     },
     "output_type": "display_data"
    }
   ],
   "source": [
    "# Importancia de los features\n",
    "var_logit_importance2 = mod_logit_min.coef_[0]\n",
    "\n",
    "# Agrupar importancia\n",
    "for i,v in enumerate(var_logit_importance2):\n",
    "    print('Feature: %0d, Score: %.5f' % (i,v))\n",
    "    \n",
    "# Graficamos la importancia de variables.\n",
    "pyplot.bar([x for x in range(len(var_logit_importance2))], var_logit_importance2)\n",
    "pyplot.show()"
   ]
  },
  {
   "cell_type": "markdown",
   "metadata": {},
   "source": [
    "### Modelo logit3 (anterior más `descuentos`)\n",
    "\n",
    "En este tercer modelo volvemos a incorporar la variable `descuentos`, que tiene bastante importancia para predecir la probabilidad de ocurrencia del fenómeno."
   ]
  },
  {
   "cell_type": "code",
   "execution_count": 375,
   "metadata": {},
   "outputs": [],
   "source": [
    "# Entrenamos el modelo\n",
    "mod_logit_3 = LogisticRegression().fit(X_train[['num_dt','incidencia','financiacion','imp_financ','descuentos']], y_train)\n",
    "\n",
    "# Construimos la predicción\n",
    "y_pred_logit3 = mod_logit_3.predict(X_test[['num_dt','incidencia','financiacion','imp_financ','descuentos']])"
   ]
  },
  {
   "cell_type": "markdown",
   "metadata": {},
   "source": [
    "##### Finalmente, con las 5 variables retomamos un **accuracy** de 97,4% y una probabilidad de predecir evento de 91,9%. Este modelo nos gusta más. Vamos a dejar este modelo como base, para luego tratar de mejorarlo a través de un feature engineering y de alteración de hiperparámetros. "
   ]
  },
  {
   "cell_type": "code",
   "execution_count": 376,
   "metadata": {},
   "outputs": [
    {
     "name": "stdout",
     "output_type": "stream",
     "text": [
      "Matriz de confusión\n",
      "[[26121   394]\n",
      " [  307  1819]]\n",
      "Accuracy\n",
      "0.9755245976048322\n",
      "Precision\n",
      "0.8219611387257117\n",
      "Recall\n",
      "0.8555973659454374\n",
      "F1\n",
      "0.8384420373357917\n",
      "AUC\n",
      "0.9203689262312515\n"
     ]
    },
    {
     "data": {
      "image/png": "[encoded data removed]",
      "text/plain": [
       "<Figure size 432x288 with 1 Axes>"
      ]
     },
     "metadata": {
      "needs_background": "light"
     },
     "output_type": "display_data"
    }
   ],
   "source": [
    "# Inspección:\n",
    "saca_metricas(y_test, y_pred_logit3)"
   ]
  },
  {
   "cell_type": "code",
   "execution_count": 377,
   "metadata": {},
   "outputs": [
    {
     "data": {
      "image/png": "[encoded data removed]",
      "text/plain": [
       "<Figure size 432x288 with 1 Axes>"
      ]
     },
     "metadata": {
      "needs_background": "light"
     },
     "output_type": "display_data"
    }
   ],
   "source": [
    "# Importancia de los features\n",
    "var_logit_importance3 = mod_logit_3.coef_[0]\n",
    "\n",
    "# Agrupar importancia\n",
    "for i,v in enumerate(var_logit_importance3):\n",
    "    ('Feature: %0d, Score: %.5f' % (i,v))\n",
    "    \n",
    "# Graficamos la importancia de variables.\n",
    "pyplot.bar([x for x in range(len(var_logit_importance3))], var_logit_importance3)\n",
    "pyplot.show()"
   ]
  },
  {
   "cell_type": "markdown",
   "metadata": {},
   "source": [
    "### (b) Segunda aproximación: random forest.\n",
    "Luego, con el mismo conjunto de datos (*ahora no escalados, este algoritmo no lo necesita*), probaremos un modelo de clasificación a través de *random forest*.\n",
    "\n",
    "Literatura consultada: **Árboles de decisión y Random Forest (Johanna Orellana Alvear)** -https://bookdown.org/content/2031/\n",
    "\n",
    "*Random Forest* son simplemente una combinación de árboles de decisión. Los árboles de decisión (*decision trees*) son un tipo de algoritmo de aprendizaje supervisado principalmente utilizado para problemas de clasificación, pues se caracteriza por dividir el espacio de features (o predictores) en regiones distintas y no sobrepuestas. Estos algoritmos son populares porque puede trabajar indistintamente con variables categóricas o contínuas, y porque son relativamente fáciles de explicar/comunicar.\n",
    "\n",
    "Como decíamos, el *random forest* es una combinación o **ensamble** de *decision trees* que a través de *bagging* o creación de subconjuntos de datos para crear múltiples modelos y luego combinarlos.\n",
    "\n",
    "Los criterios de valuación genearles de un modelo de este tipo son los mismos descritos para los modelos de regresión logística (**accuracy, precision, recall, F1, y AUC**).\n",
    "\n",
    "Para este modelo creamos un nuevo muestreo, con datos no escalados, manteniendo la estratificación según la `target`. "
   ]
  },
  {
   "cell_type": "code",
   "execution_count": 378,
   "metadata": {},
   "outputs": [],
   "source": [
    "# Creamos los conjuntos de datos de train y test, no escalado\n",
    "X_train2, X_test2, y_train2, y_test2 = train_test_split(features,\n",
    "                                                        target,\n",
    "                                                        test_size = 0.3,\n",
    "                                                        stratify = target)"
   ]
  },
  {
   "cell_type": "markdown",
   "metadata": {},
   "source": [
    "### Modelo random forest 1 (todas las variables)\n",
    "\n",
    "**Nota**: Al ser árboles aleatorios ensamblados, los valores de los parámetros pueden cambiar levemente respecto a los descritos en el documento."
   ]
  },
  {
   "cell_type": "code",
   "execution_count": 379,
   "metadata": {},
   "outputs": [],
   "source": [
    "# Entrenamos el modelo con datos train\n",
    "mod_rforest = RandomForestClassifier().fit(X_train2, y_train2)\n",
    "\n",
    "# Creamos la predicción\n",
    "y_pred_rf = mod_rforest.predict(X_test2)"
   ]
  },
  {
   "cell_type": "markdown",
   "metadata": {},
   "source": [
    "A través de un *random forest*, de 28.641 datos en test el modelo falla sólo 510, es decir, el 1,8%. Dicho de otra forma, el modelo tiene un **accuracy de 98,3%, y AUC de 98,9%**. El modelo está muy bien, pero en una nueva iteración trataremos de reducir el número de dimensiones según su importancia."
   ]
  },
  {
   "cell_type": "code",
   "execution_count": 380,
   "metadata": {},
   "outputs": [
    {
     "name": "stdout",
     "output_type": "stream",
     "text": [
      "Matriz de confusión\n",
      "[[26017   498]\n",
      " [    6  2120]]\n",
      "Accuracy\n",
      "0.9824028490625327\n",
      "Precision\n",
      "0.8097784568372803\n",
      "Recall\n",
      "0.9971777986829727\n",
      "F1\n",
      "0.8937605396290051\n",
      "AUC\n",
      "0.9891979885362818\n"
     ]
    },
    {
     "data": {
      "image/png": "[encoded data removed]",
      "text/plain": [
       "<Figure size 432x288 with 1 Axes>"
      ]
     },
     "metadata": {
      "needs_background": "light"
     },
     "output_type": "display_data"
    }
   ],
   "source": [
    "# Inspección:\n",
    "saca_metricas(y_test2, y_pred_rf)"
   ]
  },
  {
   "cell_type": "code",
   "execution_count": 381,
   "metadata": {},
   "outputs": [
    {
     "name": "stdout",
     "output_type": "stream",
     "text": [
      "Feature: 0, Score: 0.01573\n",
      "Feature: 1, Score: 0.02016\n",
      "Feature: 2, Score: 0.01544\n",
      "Feature: 3, Score: 0.00634\n",
      "Feature: 4, Score: 0.36259\n",
      "Feature: 5, Score: 0.30036\n",
      "Feature: 6, Score: 0.00211\n",
      "Feature: 7, Score: 0.00997\n",
      "Feature: 8, Score: 0.01897\n",
      "Feature: 9, Score: 0.01688\n",
      "Feature: 10, Score: 0.01979\n",
      "Feature: 11, Score: 0.01945\n",
      "Feature: 12, Score: 0.02051\n",
      "Feature: 13, Score: 0.01016\n",
      "Feature: 14, Score: 0.01407\n",
      "Feature: 15, Score: 0.09266\n",
      "Feature: 16, Score: 0.01111\n",
      "Feature: 17, Score: 0.01121\n",
      "Feature: 18, Score: 0.00880\n",
      "Feature: 19, Score: 0.01859\n",
      "Feature: 20, Score: 0.00241\n",
      "Feature: 21, Score: 0.00270\n"
     ]
    },
    {
     "data": {
      "image/png": "[encoded data removed]",
      "text/plain": [
       "<Figure size 432x288 with 1 Axes>"
      ]
     },
     "metadata": {
      "needs_background": "light"
     },
     "output_type": "display_data"
    }
   ],
   "source": [
    "# Construimos importancia de los descriptores\n",
    "var_importance_forest = mod_rforest.feature_importances_\n",
    "\n",
    "# Agrupamos la importancia\n",
    "for i,v in enumerate(var_importance_forest):\n",
    "    print('Feature: %0d, Score: %.5f' % (i,v))\n",
    "    \n",
    "# Graficamos la importancia de variables.\n",
    "pyplot.bar([x for x in range(len(var_importance_forest))], var_importance_forest)\n",
    "pyplot.show()"
   ]
  },
  {
   "cell_type": "markdown",
   "metadata": {},
   "source": [
    "### Modelo random forest 2 (3 variables más importantes)\n",
    "\n",
    "Para el modelo completo a través de *random forest* las variables más importantes son `num_dt`, `incidencia` y `descuentos`. Vamos a inspeccionar un modelo *random forest* con solo estas tres."
   ]
  },
  {
   "cell_type": "code",
   "execution_count": 382,
   "metadata": {},
   "outputs": [],
   "source": [
    "# Entrenamos el modelo con datos train\n",
    "mod_rforest_2 = RandomForestClassifier().fit(X_train2[['num_dt','incidencia','descuentos']], y_train2)\n",
    "\n",
    "# Creamos la predicción\n",
    "y_pred_rf2 = mod_rforest_2.predict(X_test2[['num_dt','incidencia','descuentos']])"
   ]
  },
  {
   "cell_type": "markdown",
   "metadata": {},
   "source": [
    "<br>El modelo es perfectamente bueno con solo 3 variables. *Accuracy* y *AUC* muy buenos sin bajar mucho el f1. Además, sigue teniendo una capacidad de predecir evento cercana al 99%. Por tanto, nos quedamos con este modelo."
   ]
  },
  {
   "cell_type": "code",
   "execution_count": 383,
   "metadata": {},
   "outputs": [
    {
     "name": "stdout",
     "output_type": "stream",
     "text": [
      "Matriz de confusión\n",
      "[[25857   658]\n",
      " [    6  2120]]\n",
      "Accuracy\n",
      "0.9768164519395273\n",
      "Precision\n",
      "0.7631389488840893\n",
      "Recall\n",
      "0.9971777986829727\n",
      "F1\n",
      "0.8646003262642741\n",
      "AUC\n",
      "0.9861808284382241\n"
     ]
    },
    {
     "data": {
      "image/png": "[encoded data removed]",
      "text/plain": [
       "<Figure size 432x288 with 1 Axes>"
      ]
     },
     "metadata": {
      "needs_background": "light"
     },
     "output_type": "display_data"
    }
   ],
   "source": [
    "# Inspección:\n",
    "saca_metricas(y_test2, y_pred_rf2)"
   ]
  },
  {
   "cell_type": "code",
   "execution_count": 384,
   "metadata": {},
   "outputs": [
    {
     "name": "stdout",
     "output_type": "stream",
     "text": [
      "Feature: 0, Score: 0.47693\n",
      "Feature: 1, Score: 0.39157\n",
      "Feature: 2, Score: 0.13150\n"
     ]
    },
    {
     "data": {
      "image/png": "[encoded data removed]",
      "text/plain": [
       "<Figure size 432x288 with 1 Axes>"
      ]
     },
     "metadata": {
      "needs_background": "light"
     },
     "output_type": "display_data"
    }
   ],
   "source": [
    "# Construimos importancia de los descriptores\n",
    "var_importance_forest_2 = mod_rforest_2.feature_importances_\n",
    "\n",
    "# Agrupamos la importancia\n",
    "for i,v in enumerate(var_importance_forest_2):\n",
    "    print('Feature: %0d, Score: %.5f' % (i,v))\n",
    "    \n",
    "# Graficamos la importancia de variables.\n",
    "pyplot.bar([x for x in range(len(var_importance_forest_2))], var_importance_forest_2)\n",
    "pyplot.show()"
   ]
  },
  {
   "cell_type": "markdown",
   "metadata": {},
   "source": [
    "# Feature engineering\n",
    "\n",
    "En la práctica, los modelos de *random forest* no son mejorables (ya son suficientemente buenos). Quizás podrían transformarse alguna de las 3 variables implicadas en el modelo `mod_rforest_2` para mantener su accuracy disminuyendo aun más el número de features, pero teniendo solo 3 no parece razonable. Además, disminuyendo tanto la cantidad de features la utilización de *random forest* pierde su sentido. Por lo tanto, en este apartado trataremos de mejorar nuestro modelo logit. Para ello realizaremos algunas transformaciones en los datos de diciembre, y alteraremos hiperparámetros."
   ]
  },
  {
   "cell_type": "markdown",
   "metadata": {},
   "source": [
    "### (a) Creación de variables.\n",
    "En este primer subapartado de feature engineering vamos a crear variables nuevas con interacciones de los datos original. Veremos si alguna operación de este tipo permite entregar más información al modelo respecto a la `target` -adelantamos que no.\n",
    "\n",
    "Lo que se tiene es que, en general, las variables que han quedado fuera del modelo logit 3 no aportan al modelo. Así, por ejemplo, ni la `edad`, ni el número de llamadas entrantes (`num_llamad_ent`), ni los segundos de las llamadas entrantes (`seg_llamad_ent`), ni los megas de datos contratados (`mb_datos`) permiten distinguir entre clientes que permanecen y que se van."
   ]
  },
  {
   "cell_type": "code",
   "execution_count": 385,
   "metadata": {},
   "outputs": [
    {
     "data": {
      "image/png": "[encoded data removed]",
      "text/plain": [
       "<Figure size 432x288 with 4 Axes>"
      ]
     },
     "metadata": {
      "needs_background": "light"
     },
     "output_type": "display_data"
    }
   ],
   "source": [
    "figure, axes = plt.subplots(nrows=1, ncols=4)\n",
    "plt.subplot(1, 4, 1)\n",
    "sns.boxplot(x='target', y='edad', data=data_dic, palette='rainbow')\n",
    "plt.subplot(1, 4, 2)\n",
    "sns.boxplot(x='target', y='num_llamad_ent', data=data_dic, palette='rainbow')\n",
    "plt.subplot(1, 4, 3)\n",
    "sns.boxplot(x='target', y='seg_llamad_ent', data=data_dic, palette='rainbow')\n",
    "plt.subplot(1, 4, 4)\n",
    "sns.boxplot(x='target', y='mb_datos', data=data_dic, palette='rainbow')\n",
    "figure.tight_layout(pad=1)"
   ]
  },
  {
   "cell_type": "markdown",
   "metadata": {},
   "source": [
    "<br>Incluso combinándolas, no sirven. Hemos creado algunas variables con asociaciones de features de diciembre, que tampoco aportan información. Por ejemplo, el neto de número de llamadas (restando entrantes menos salientes); el neto de segundos de llamadas (restando los segundos de llamadas entrantes menos salientes); o creando una especie de índice de uso de servicios (multiplicando los segundos de llamadas salientes por los megas contratados): ninguna de estas variables permite discriminar respecto a la `target`.\n",
    "\n",
    "No seguiremos por este camino. En general, y salvo las vaiables usadas para los modelos antes descritos, los features del conjunto de datos aportan tan poca información a la hora de predecir la fuga de clientes que no merece la pena seguir por ahí. Vamos a tratar de incorporar información externa."
   ]
  },
  {
   "cell_type": "code",
   "execution_count": 386,
   "metadata": {},
   "outputs": [
    {
     "data": {
      "image/png": "[encoded data removed]",
      "text/plain": [
       "<Figure size 432x288 with 3 Axes>"
      ]
     },
     "metadata": {
      "needs_background": "light"
     },
     "output_type": "display_data"
    }
   ],
   "source": [
    "data_dic['neto_llamadas'] = data_dic['num_llamad_ent'] - data_dic['num_llamad_sal']\n",
    "data_dic['neto_seg_llamadas'] = data_dic['seg_llamad_ent'] - data_dic['seg_llamad_sal']\n",
    "data_dic['uso_servicios'] = data_dic['seg_llamad_ent'] * data_dic['mb_datos']\n",
    "\n",
    "figure, axes = plt.subplots(nrows=1, ncols=3)\n",
    "plt.subplot(1, 3, 1)\n",
    "sns.boxplot(x='target', y='neto_llamadas', data=data_dic, palette='rainbow')\n",
    "plt.subplot(1, 3, 2)\n",
    "sns.boxplot(x='target', y='neto_seg_llamadas', data=data_dic, palette='rainbow')\n",
    "plt.subplot(1, 3, 3)\n",
    "sns.boxplot(x='target', y='uso_servicios', data=data_dic, palette='rainbow')\n",
    "figure.tight_layout(pad=1)"
   ]
  },
  {
   "cell_type": "markdown",
   "metadata": {},
   "source": [
    "¿Mejoraría si en vez de crear variables, tratamos de tramificarlas o incorporar información externa al dataset para mejorar las variables? Parece que no. Por ejemplo, la variable `provincia`, que en potencia podría aportar información sumando datos externos (PIB -indirectamente, poder de compra de residentes-, o tamaño de la población) en realidad aporta muy poco, (i) porque hay relativamente la misma cantidad de clientes en cada provincia (en torno a 1900. Por tanto no podemos, por ejemplo, dividirlas entre \"provincias con más o menos clientes\"), y lo más importante, (ii) porque ninguna de las provincias tiene una distribución de clientes que se quedan o se van significativamente distinta al resto. "
   ]
  },
  {
   "cell_type": "code",
   "execution_count": 387,
   "metadata": {},
   "outputs": [
    {
     "data": {
      "text/plain": [
       "dict_values([1877, 1838, 1889, 1871, 1913, 1924, 1879, 1921, 1954, 1907, 1949, 1860, 1909, 1913, 1931, 1914, 1860, 1939, 1898, 1986, 1936, 1972, 1973, 1928, 1831, 1902, 1888, 1855, 1900, 1912, 1905, 1898, 1907, 1917, 1972, 1899, 1932, 1945, 1958, 1853, 1991, 1967, 1851, 1869, 1881, 1893, 1922, 1915, 1864, 1899])"
      ]
     },
     "execution_count": 387,
     "metadata": {},
     "output_type": "execute_result"
    }
   ],
   "source": [
    "from collections import Counter\n",
    "Counter(dic_raw['provincia']).values() # frecuencia de aparición"
   ]
  },
  {
   "cell_type": "code",
   "execution_count": 388,
   "metadata": {},
   "outputs": [
    {
     "data": {
      "text/plain": [
       "<matplotlib.axes._subplots.AxesSubplot at 0x1a29bf9a10>"
      ]
     },
     "execution_count": 388,
     "metadata": {},
     "output_type": "execute_result"
    },
    {
     "data": {
      "image/png": "[encoded data removed]",
      "text/plain": [
       "<Figure size 432x288 with 1 Axes>"
      ]
     },
     "metadata": {
      "needs_background": "light"
     },
     "output_type": "display_data"
    }
   ],
   "source": [
    "table=pd.crosstab(data_dic.provincia,data_dic.target)\n",
    "table.div(table.sum(1).astype(float), axis=0).plot(kind='bar', stacked=True)"
   ]
  },
  {
   "cell_type": "markdown",
   "metadata": {},
   "source": [
    "### (b) Transformación de variables\n",
    "\n",
    "Probemos, finalmente, trabajando sobre las 5 variables involucradas en el modelo logit: `num_dt`, `incidencia`, `financiacion`, `descuentos` y `imp_financ`. De ellas, realmente podemos transformar `num_dt` y `imp_financ`, pues las otras ya son dicotómicas. Probaremos, entonces, transformando estas dos a dicotómicas."
   ]
  },
  {
   "cell_type": "code",
   "execution_count": 389,
   "metadata": {},
   "outputs": [],
   "source": [
    "# Transformamos a dicotómicas\n",
    "data_dic['num_dt'].replace((1,2,3,4), (1), inplace=True)\n",
    "data_dic['imp_financ'] = data_dic['imp_financ'].apply(lambda x: 1 if x>1 else 0)"
   ]
  },
  {
   "cell_type": "code",
   "execution_count": 390,
   "metadata": {},
   "outputs": [],
   "source": [
    "# Luego creamos un dataset de features con sólo las 5 variables.\n",
    "target = data_dic['target']\n",
    "fe_features = data_dic[['num_dt','incidencia','financiacion','imp_financ','descuentos']]"
   ]
  },
  {
   "cell_type": "code",
   "execution_count": 391,
   "metadata": {},
   "outputs": [],
   "source": [
    "# Creamos los conjuntos de datos de train y test.\n",
    "# Al ser todas variables dicotómicas 0 / 1, no necesitamos escalarlas.\n",
    "X_train_fe, X_test_fe, y_train_fe, y_test_fe = train_test_split(fe_features,\n",
    "                                                    target,\n",
    "                                                    test_size=0.3,\n",
    "                                                    stratify = target)"
   ]
  },
  {
   "cell_type": "code",
   "execution_count": 392,
   "metadata": {},
   "outputs": [],
   "source": [
    "# Entrenamos nuestro modelo base de regresión\n",
    "mod_logit_fe = LogisticRegression().fit(X_train_fe, y_train_fe)\n",
    "\n",
    "# Construimos la predicción con el modelo \"fe\"\n",
    "y_pred_logit_fe = mod_logit_fe.predict(X_test_fe)"
   ]
  },
  {
   "cell_type": "markdown",
   "metadata": {},
   "source": [
    "<br>Con estas transformaciones hemos mejorado sustantivamente al modelo. La diferencia entre los valores en `num_dt` no aportaba información adicional, pues lo que más discriminaba era el hecho de que se tuvieran o no líneas en impago. De igual forma, el importe/cantidad que se paga por terminales financiados es irrelevante (`imp_financ`), pues lo que más importa para el modelo es el hecho de que se esté pagando algo (valor 1), versus que no se esté pagando nada (valor 0).\n",
    "\n",
    "Con todo, mejoramos en *accuracy*, en capacidad de identificar eventos \"fuga\" y en F1. Es en el sentido del AUC, incluso levemente mejor al modelo *random forest*. Además, al no tener variables escaladas en este modelo logit (solo dicotómicas), es mucho más fácil de comunicar. Veremos todo esto en el apartado de predicción."
   ]
  },
  {
   "cell_type": "code",
   "execution_count": 393,
   "metadata": {},
   "outputs": [
    {
     "name": "stdout",
     "output_type": "stream",
     "text": [
      "Matriz de confusión\n",
      "[[26065   450]\n",
      " [   14  2112]]\n",
      "Accuracy\n",
      "0.9837994483432841\n",
      "Precision\n",
      "0.8243559718969555\n",
      "Recall\n",
      "0.993414863593603\n",
      "F1\n",
      "0.901023890784983\n",
      "AUC\n",
      "0.9882216690210142\n"
     ]
    },
    {
     "data": {
      "image/png": "[encoded data removed]",
      "text/plain": [
       "<Figure size 432x288 with 1 Axes>"
      ]
     },
     "metadata": {
      "needs_background": "light"
     },
     "output_type": "display_data"
    }
   ],
   "source": [
    "# Inspección:\n",
    "saca_metricas(y_test_fe, y_pred_logit_fe)"
   ]
  },
  {
   "cell_type": "code",
   "execution_count": 394,
   "metadata": {},
   "outputs": [
    {
     "name": "stdout",
     "output_type": "stream",
     "text": [
      "Feature: 0, Score: 7.45270\n",
      "Feature: 1, Score: 7.46372\n",
      "Feature: 2, Score: -3.65443\n",
      "Feature: 3, Score: -3.65443\n",
      "Feature: 4, Score: -9.59193\n"
     ]
    },
    {
     "data": {
      "image/png": "[encoded data removed]",
      "text/plain": [
       "<Figure size 432x288 with 1 Axes>"
      ]
     },
     "metadata": {
      "needs_background": "light"
     },
     "output_type": "display_data"
    }
   ],
   "source": [
    "# Importancia de los features\n",
    "var_logit_importance_fe = mod_logit_fe.coef_[0]\n",
    "\n",
    "# Agrupar importancia\n",
    "for i,v in enumerate(var_logit_importance_fe):\n",
    "    print('Feature: %0d, Score: %.5f' % (i,v))\n",
    "    \n",
    "# Graficamos la importancia de variables.\n",
    "pyplot.bar([x for x in range(len(var_logit_importance_fe))], var_logit_importance_fe)\n",
    "pyplot.show()"
   ]
  },
  {
   "cell_type": "markdown",
   "metadata": {},
   "source": [
    "### (c) Control de hiperparámetros\n",
    "\n",
    "En este subapartado de feature engineering o mejora de modelo, jugaremos un poco con los hiperparámetros de la regresión logística. La verdad es que el modelo ya es suficientemente bueno, pero con objeto de completar el ejercicio probaremos un poco con ello.\n",
    "\n",
    "La función de regresión logística de `sklearn` proporciona los siguientes hiperparámetros para mejorar el ajuste del modelo:\n",
    "\n",
    "> Fuente: https://medium.com/@rubialesalberto/regresi%C3%B3n-log%C3%ADstica-con-sklearn-4384c707075d\n",
    "\n",
    "+ **fit_intercept**: puede ser True/false si queremos tener una constante β₀ o no\n",
    "+ **penalty**: es la regularización, hay distintos tipos:\n",
    "    - L1: hace que algunas β sean 0.\n",
    "    - L2: también conocida como Ridge, lo que hace es estimar β pequeños, sirve para controlar el sobre ajuste.\n",
    "    - elasticnet: sirve para aplicar la regularización L1 y L2 a la vez.\n",
    "+ **tol**: es un parámetro que se encuentra dentro de los llamados “early stopping”. Es para que una vez alcanzado el criterio de tolerancia que nosotros fijemos, el algoritmo pare de iterar.\n",
    "+ **C**: un parámetro que aplica regularización con el objetivo de reducir el overfitting, cuanto más pequeño es el valor, mayor es la regularización.\n",
    "+ **class_weight**: puede ser balanced/None dependiendo de si quieres balancear tu conjunto de datos o no, si tienes clases desbalanceadas.\n",
    "+ **solver**: Es el algoritmo encargado de resolver el problema de clasificiación.\n",
    "+ **multi_class**: puede ser ovr/multinomial/auto en el caso de que tengamos un problema de clasificación. Es la estrategia a seguir para resolver dicho problema.\n",
    "+ **warm_start**: puede ser True/False. Es usado para reducir el tiempo de procesamiento del kernel en los casos en los que trabajamos con grandes datasets. Solo sirve para los kernels lbfgs, newton-cg y saga.\n",
    "+ **l1_ratio**: en el caso de que escojamos la regularización (penalty) “elasticnet”, indicamos el porcentaje de regularización l1 y l2, si lo fijamos en 0 aplicamos solo la regularización l2, si lo fijamos en 1 aplicamos la regularización l1 por completo.\n",
    "\n",
    "---\n",
    "#### La verdad es que el modelo tenía muy poco margen para mejorar. La modificación de hiperparámetros mejoró insignificantemente el modelo."
   ]
  },
  {
   "cell_type": "code",
   "execution_count": 395,
   "metadata": {},
   "outputs": [],
   "source": [
    "# Entrenamos nuestro modelo base de regresión\n",
    "mod_logit_hp = LogisticRegression(penalty='l2', C=0.7, solver='lbfgs', fit_intercept=False).fit(X_train_fe, y_train_fe)\n",
    "\n",
    "# Construimos la predicción con el modelo \"fe\"\n",
    "y_pred_logit_hp = mod_logit_hp.predict(X_test_fe)"
   ]
  },
  {
   "cell_type": "code",
   "execution_count": 396,
   "metadata": {},
   "outputs": [
    {
     "name": "stdout",
     "output_type": "stream",
     "text": [
      "Matriz de confusión\n",
      "[[26071   444]\n",
      " [   14  2112]]\n",
      "Accuracy\n",
      "0.9840089382353968\n",
      "Precision\n",
      "0.8262910798122066\n",
      "Recall\n",
      "0.993414863593603\n",
      "F1\n",
      "0.9021785561725758\n",
      "AUC\n",
      "0.9883348125246912\n"
     ]
    },
    {
     "data": {
      "image/png": "[encoded data removed]",
      "text/plain": [
       "<Figure size 432x288 with 1 Axes>"
      ]
     },
     "metadata": {
      "needs_background": "light"
     },
     "output_type": "display_data"
    }
   ],
   "source": [
    "# Inspección:\n",
    "saca_metricas(y_test_fe, y_pred_logit_hp)"
   ]
  },
  {
   "cell_type": "markdown",
   "metadata": {},
   "source": [
    "### (d) Validación cruzada\n",
    "\n",
    "Concluyendo este apartado, realizaremos una validación cruzada de los modelos (logit que hemos mejorado a través de feature engineering, e hiperparámetros; y el *random forest* 2). La validación cruzada, sabemos, es una **técnica para evaluar la estabilidad del modelo garantizando que sus métricas/parámetros son independientes de la partición de datos que hacemos en el muestreo**. Consiste, simplemente, en calcular las metricas para distintos subconjuntos de datos y evaluar su estabilidad.\n",
    "\n",
    "#### (1) Modelo logit\n",
    "Así, para 10 subconjuntos de datos, se tiene:\n",
    "+ En train, una media de **accuracy** de 98,4% con **desviación** 0.0010 (ínfima!)\n",
    "+ En test, una media de **accuracy** de 98,2% con **desviación** 0.0018 (ínfima también!)\n",
    "\n",
    "##### En conclusión, el modelo logit es bastante estable, y no produce *overfitting* (sus datos funcionan igualmente bien en test)."
   ]
  },
  {
   "cell_type": "code",
   "execution_count": 397,
   "metadata": {},
   "outputs": [],
   "source": [
    "# Hacemos la validación con 10 subconjuntos.\n",
    "vc_train = cross_val_score(estimator=mod_logit_hp, X=X_train_fe, y=y_train_fe, cv=10)"
   ]
  },
  {
   "cell_type": "code",
   "execution_count": 398,
   "metadata": {},
   "outputs": [
    {
     "data": {
      "text/plain": [
       "0.9836291545157645"
      ]
     },
     "execution_count": 398,
     "metadata": {},
     "output_type": "execute_result"
    }
   ],
   "source": [
    "# Media de accuracy\n",
    "vc_train.mean()"
   ]
  },
  {
   "cell_type": "code",
   "execution_count": 399,
   "metadata": {},
   "outputs": [
    {
     "data": {
      "text/plain": [
       "0.0021077411479217914"
      ]
     },
     "execution_count": 399,
     "metadata": {},
     "output_type": "execute_result"
    }
   ],
   "source": [
    "# Desviación\n",
    "vc_train.std()"
   ]
  },
  {
   "cell_type": "code",
   "execution_count": 400,
   "metadata": {},
   "outputs": [],
   "source": [
    "# Hacemos la validación con 10 subconjuntos.\n",
    "vc_test = cross_val_score(estimator=mod_logit_hp, X=X_test_fe, y=y_test_fe, cv=10)"
   ]
  },
  {
   "cell_type": "code",
   "execution_count": 401,
   "metadata": {},
   "outputs": [
    {
     "data": {
      "text/plain": [
       "0.9840088308130295"
      ]
     },
     "execution_count": 401,
     "metadata": {},
     "output_type": "execute_result"
    }
   ],
   "source": [
    "# Media de accuracy\n",
    "vc_test.mean()"
   ]
  },
  {
   "cell_type": "code",
   "execution_count": 402,
   "metadata": {},
   "outputs": [
    {
     "data": {
      "text/plain": [
       "0.0022407047207367516"
      ]
     },
     "execution_count": 402,
     "metadata": {},
     "output_type": "execute_result"
    }
   ],
   "source": [
    "# Desviación\n",
    "vc_test.std()"
   ]
  },
  {
   "cell_type": "markdown",
   "metadata": {},
   "source": [
    "#### (2) Modelo random forest\n",
    "También para 10 subconjuntos de datos, se tiene:\n",
    "+ En train, una media de **accuracy** de 98,4% con **desviación** 0.0010 (ínfima!)\n",
    "+ En test, una media de **accuracy** de 98,2% con **desviación** 0.0018 (ínfima también!)\n",
    "\n",
    "##### En conclusión, el modelo random forest también es bastante estable y sin *overfitting*. De hecho, estas metricas son exactamente iguales!"
   ]
  },
  {
   "cell_type": "code",
   "execution_count": 403,
   "metadata": {},
   "outputs": [],
   "source": [
    "# Hacemos la validación con 10 subconjuntos.\n",
    "vc_train_rf = cross_val_score(estimator=mod_rforest_2, X=X_train_fe, y=y_train_fe, cv=10)"
   ]
  },
  {
   "cell_type": "code",
   "execution_count": 404,
   "metadata": {},
   "outputs": [
    {
     "data": {
      "text/plain": [
       "0.9836291545157645"
      ]
     },
     "execution_count": 404,
     "metadata": {},
     "output_type": "execute_result"
    }
   ],
   "source": [
    "# Media de accuracy\n",
    "vc_train.mean()"
   ]
  },
  {
   "cell_type": "code",
   "execution_count": 405,
   "metadata": {},
   "outputs": [
    {
     "data": {
      "text/plain": [
       "0.0021077411479217914"
      ]
     },
     "execution_count": 405,
     "metadata": {},
     "output_type": "execute_result"
    }
   ],
   "source": [
    "# Desviación\n",
    "vc_train.std()"
   ]
  },
  {
   "cell_type": "code",
   "execution_count": 406,
   "metadata": {},
   "outputs": [],
   "source": [
    "# Hacemos la validación con 10 subconjuntos.\n",
    "vc_test = cross_val_score(estimator=mod_rforest_2, X=X_test_fe, y=y_test_fe, cv=10)"
   ]
  },
  {
   "cell_type": "code",
   "execution_count": 407,
   "metadata": {},
   "outputs": [
    {
     "data": {
      "text/plain": [
       "0.9840088308130295"
      ]
     },
     "execution_count": 407,
     "metadata": {},
     "output_type": "execute_result"
    }
   ],
   "source": [
    "# Media de accuracy\n",
    "vc_test.mean()"
   ]
  },
  {
   "cell_type": "code",
   "execution_count": 408,
   "metadata": {},
   "outputs": [
    {
     "data": {
      "text/plain": [
       "0.0022407047207367516"
      ]
     },
     "execution_count": 408,
     "metadata": {},
     "output_type": "execute_result"
    }
   ],
   "source": [
    "# Desviación\n",
    "vc_test.std()"
   ]
  },
  {
   "cell_type": "markdown",
   "metadata": {},
   "source": [
    "## Conclusiones respecto a los modelos.\n",
    "\n",
    "Contamos con dos modelos. El mejor de ellos en términos de capacidad predictiva es el logit con 5 variables **¡pero muy marginalmente! (98,68% vs. 98,66% de AUC)**. Podemos decir entonces que en ese sentido son prácticamente iguales: similar capacidad predictiva, ninguno produce *overfitting*, son ambos bastante estables, etc. Por lo tanto, lo que determina el modelo ganador será el número de variables: *random forest* está por sobre el logit con solo 3 features.\n",
    "\n",
    "En suma: A través de un feature engineering bastante sencillo hemos mejorado el modelo logit. No obstante, el *random forest* es mejor por parsinomía. Además, a lo largo de todo este ejercicio hemos mostardo por qué hay 3 - 5 variables determinantes a la hora de clasificar a los clientes, y por qué el resto de variables son inutiles en términos de la información que podrían aportar a modelos.\n",
    "\n",
    "Llegados a este punto no realizaremos más ajustes al conjunto de datos ni probaremos con otros algoritmos, sencillamente porque ya tenemos un par bastante buenos. Pasaremos a la etapa de \"producción\" para predecir cuántos clientes dejarían la compañía en febrero de 2020."
   ]
  },
  {
   "cell_type": "markdown",
   "metadata": {},
   "source": [
    "# Predicción e interpretación del modelo\n",
    "\n",
    "En este último apartado del ejercicio, realizaremos la predicción de clientes de enero que potencialmente dejarán la compañía en febrero, según el modelo ganador (*random forest*). Describiremos, además, los coeficientes de cada uno de ellos, interpretandolos en términos de una estrategia de negocios. Finalmente, revisaremos las predicciones.\n",
    "\n",
    "Antes de comenzar, cabe destacar que para poder utilizar los modelos que hemos construido sobre el conjunto de datos de enero, debemos realizar las mismas transformaciones que hemos realizar sobre los datos de diciembre. Esto lo haremos rápidamente, y sin mayor descripción (está antes).\n",
    "\n",
    "**Nota:** Una alternativa habría sido juntar los datos de diciembre y enero, incorporando una etiqueta que permita diferenciarlos, y aplicar las transformaciones solo 1 vez sobre todos los registros. "
   ]
  },
  {
   "cell_type": "code",
   "execution_count": 409,
   "metadata": {},
   "outputs": [],
   "source": [
    "# Incongruencias de Nan\n",
    "ene_raw['num_dt'].fillna(0, inplace=True)\n",
    "ene_raw['imp_financ'].fillna(0, inplace=True)\n",
    "ene_raw['incidencia'].replace(('SI'), (1), inplace=True)\n",
    "ene_raw['incidencia'].fillna(0, inplace=True)\n",
    "ene_raw['financiacion'].replace(('SI'), (1), inplace=True)\n",
    "ene_raw['financiacion'].fillna(0, inplace=True)\n",
    "ene_raw['descuentos'].replace(('SI'), (1), inplace=True)\n",
    "ene_raw['descuentos'].fillna(0, inplace=True)"
   ]
  },
  {
   "cell_type": "code",
   "execution_count": 410,
   "metadata": {},
   "outputs": [],
   "source": [
    "# Le damos formato fecha a la columna `antiguedad`\n",
    "ene_raw['antiguedad'] = pd.to_datetime(ene_raw['antiguedad'], format='%m/%d/%Y %I:%M %p')\n",
    "# Creamos variables numéricas del año, mes y día de la semana en que se ha dado de alta el cliente\n",
    "ene_raw['ano_alta'] = ene_raw['antiguedad'].dt.year\n",
    "ene_raw['mes_alta'] = ene_raw['antiguedad'].dt.month\n",
    "ene_raw['dia_alta'] = ene_raw['antiguedad'].dt.dayofweek"
   ]
  },
  {
   "cell_type": "code",
   "execution_count": 411,
   "metadata": {},
   "outputs": [],
   "source": [
    "# Creamos el día de referencia para calcular antiguedad en días (1 de enero de 2020)\n",
    "age = pd.to_datetime('2020-01-01')"
   ]
  },
  {
   "cell_type": "code",
   "execution_count": 412,
   "metadata": {},
   "outputs": [],
   "source": [
    "# Calculamos la diferencia\n",
    "dif = age - ene_raw['antiguedad']"
   ]
  },
  {
   "cell_type": "code",
   "execution_count": 413,
   "metadata": {},
   "outputs": [],
   "source": [
    "# Extraémos solos los días en una nueva variable\n",
    "ene_raw['fidelidad'] = dif.dt.days"
   ]
  },
  {
   "cell_type": "code",
   "execution_count": 414,
   "metadata": {},
   "outputs": [],
   "source": [
    "# Provincias\n",
    "ene_raw['provincia'] = ene_raw['provincia'].astype('category')\n",
    "ene_raw['provincia'] = ene_raw['provincia'].cat.codes"
   ]
  },
  {
   "cell_type": "code",
   "execution_count": 415,
   "metadata": {},
   "outputs": [],
   "source": [
    "# Numerica escondida\n",
    "ene_raw['conexion'].replace(('FIBRA','ADSL'), (1,0), inplace=True)"
   ]
  },
  {
   "cell_type": "code",
   "execution_count": 416,
   "metadata": {},
   "outputs": [],
   "source": [
    "ene_raw['vel_conexion'] = ene_raw['vel_conexion'].str.strip('MB')\n",
    "ene_raw['vel_conexion'] = ene_raw['vel_conexion'].astype('int32')"
   ]
  },
  {
   "cell_type": "code",
   "execution_count": 417,
   "metadata": {},
   "outputs": [],
   "source": [
    "# Creo dummies\n",
    "tv_dummies = pd.get_dummies(ene_raw['TV'])\n",
    "ene_raw.insert(19, 'tv_familiar', tv_dummies['tv-familiar'])\n",
    "ene_raw.insert(20, 'tv_futbol', tv_dummies['tv-futbol'])"
   ]
  },
  {
   "cell_type": "code",
   "execution_count": 418,
   "metadata": {},
   "outputs": [],
   "source": [
    "# Clasificación de clientes de enero.\n",
    "pred_rf_ene = mod_rforest_2.predict(features_ene[['num_dt','incidencia','descuentos']])"
   ]
  },
  {
   "cell_type": "code",
   "execution_count": 419,
   "metadata": {},
   "outputs": [],
   "source": [
    "features_ene = ene_raw[['edad', 'facturacion', 'provincia', 'num_lineas', 'num_dt',\n",
    "       'incidencia', 'conexion', 'vel_conexion', 'num_llamad_ent',\n",
    "       'num_llamad_sal', 'mb_datos', 'seg_llamad_ent', 'seg_llamad_sal',\n",
    "       'financiacion', 'imp_financ', 'descuentos', 'ano_alta', 'mes_alta',\n",
    "       'dia_alta', 'fidelidad', 'tv_familiar', 'tv_futbol']]"
   ]
  },
  {
   "cell_type": "markdown",
   "metadata": {},
   "source": [
    "## Predicción a través de modelo *random forest* con 3 variables.\n",
    "\n",
    "Recordemos que este modelo tiene la mejor capacidad predictiva de evento de **98,66% AUC**. Además, recordemos que **la cantidad de clientes que dejaron la compañía en enero respecto a diciembre fue del 7,4%** (cualquier valor muy distinto a él habría que mirarlo con cuidado).\n",
    "\n",
    "Pasemos a revisar: \n",
    "+ Primero, si hacemos directamente la predicción/clasificación de fugar da cada cliente de enero, observamos que 2.137 se irán y 90.547 se quedarán en la compañía. Esto representa solo un 2,3% de sus clientes de enero, mostrando una baja significativa respecto al período anterior.\n",
    "+ Luego, si miramos la probabilidad de fuga o score de cada cliente vemos que no hay puntos medios, y que en la práctica hay dos grupos de clientes:\n",
    "    - (a) clientes con **baja probabilidad de abandonar** la compañía (probabilidad inferior al 0.01%).\n",
    "    - (b) clientes con **alta probabilidad de dejar** la compañía (probabilidades sobre el 70%).\n",
    "\n",
    "El histograma ulterior confirma visualmente que hay dos grupos. Y es más, estos dos grupos son tan homogéneos (es decir, que simplemente hay clientes con baja y alta probabilidad de dejar la compañía, sin matices), que para la empresa no merece la pena segmentar a los clientes para buscar retenerlos: hay que ir por todos ellos indistintamente."
   ]
  },
  {
   "cell_type": "code",
   "execution_count": 420,
   "metadata": {},
   "outputs": [
    {
     "data": {
      "text/plain": [
       "0.0    90574\n",
       "1.0     2137\n",
       "dtype: int64"
      ]
     },
     "execution_count": 420,
     "metadata": {},
     "output_type": "execute_result"
    }
   ],
   "source": [
    "pd.value_counts(pred_rf_ene)\n",
    "# fuga: 2,3%"
   ]
  },
  {
   "cell_type": "code",
   "execution_count": 421,
   "metadata": {},
   "outputs": [],
   "source": [
    "prob_sujetos = mod_rforest_2.predict_proba(features_ene[['num_dt','incidencia','descuentos']])[:,1]\n",
    "prob_sujetos = (pd.DataFrame(prob_sujetos, columns = ['Probabilidad'], index = features_ene[['num_dt','incidencia','descuentos']].index))\n",
    "prob_sujetos.sort_values(by = ['Probabilidad'], ascending = False, axis = 0, inplace = True)"
   ]
  },
  {
   "cell_type": "code",
   "execution_count": 422,
   "metadata": {},
   "outputs": [
    {
     "data": {
      "text/html": [
       "<div>\n",
       "<style scoped>\n",
       "    .dataframe tbody tr th:only-of-type {\n",
       "        vertical-align: middle;\n",
       "    }\n",
       "\n",
       "    .dataframe tbody tr th {\n",
       "        vertical-align: top;\n",
       "    }\n",
       "\n",
       "    .dataframe thead th {\n",
       "        text-align: right;\n",
       "    }\n",
       "</style>\n",
       "<table border=\"1\" class=\"dataframe\">\n",
       "  <thead>\n",
       "    <tr style=\"text-align: right;\">\n",
       "      <th></th>\n",
       "      <th>Probabilidad</th>\n",
       "      <th>Real_proba</th>\n",
       "    </tr>\n",
       "  </thead>\n",
       "  <tbody>\n",
       "    <tr>\n",
       "      <th>0.798118</th>\n",
       "      <td>274</td>\n",
       "      <td>0.798118</td>\n",
       "    </tr>\n",
       "    <tr>\n",
       "      <th>0.785751</th>\n",
       "      <td>277</td>\n",
       "      <td>0.785751</td>\n",
       "    </tr>\n",
       "    <tr>\n",
       "      <th>0.784889</th>\n",
       "      <td>16</td>\n",
       "      <td>0.784889</td>\n",
       "    </tr>\n",
       "    <tr>\n",
       "      <th>0.779540</th>\n",
       "      <td>304</td>\n",
       "      <td>0.779540</td>\n",
       "    </tr>\n",
       "    <tr>\n",
       "      <th>0.775697</th>\n",
       "      <td>890</td>\n",
       "      <td>0.775697</td>\n",
       "    </tr>\n",
       "    <tr>\n",
       "      <th>0.765983</th>\n",
       "      <td>16</td>\n",
       "      <td>0.765983</td>\n",
       "    </tr>\n",
       "    <tr>\n",
       "      <th>0.746709</th>\n",
       "      <td>326</td>\n",
       "      <td>0.746709</td>\n",
       "    </tr>\n",
       "    <tr>\n",
       "      <th>0.727083</th>\n",
       "      <td>17</td>\n",
       "      <td>0.727083</td>\n",
       "    </tr>\n",
       "    <tr>\n",
       "      <th>0.719263</th>\n",
       "      <td>17</td>\n",
       "      <td>0.719263</td>\n",
       "    </tr>\n",
       "    <tr>\n",
       "      <th>0.000646</th>\n",
       "      <td>70536</td>\n",
       "      <td>0.000646</td>\n",
       "    </tr>\n",
       "    <tr>\n",
       "      <th>0.000352</th>\n",
       "      <td>17699</td>\n",
       "      <td>0.000352</td>\n",
       "    </tr>\n",
       "    <tr>\n",
       "      <th>0.000000</th>\n",
       "      <td>2339</td>\n",
       "      <td>0.000000</td>\n",
       "    </tr>\n",
       "  </tbody>\n",
       "</table>\n",
       "</div>"
      ],
      "text/plain": [
       "          Probabilidad  Real_proba\n",
       "0.798118           274    0.798118\n",
       "0.785751           277    0.785751\n",
       "0.784889            16    0.784889\n",
       "0.779540           304    0.779540\n",
       "0.775697           890    0.775697\n",
       "0.765983            16    0.765983\n",
       "0.746709           326    0.746709\n",
       "0.727083            17    0.727083\n",
       "0.719263            17    0.719263\n",
       "0.000646         70536    0.000646\n",
       "0.000352         17699    0.000352\n",
       "0.000000          2339    0.000000"
      ]
     },
     "execution_count": 422,
     "metadata": {},
     "output_type": "execute_result"
    }
   ],
   "source": [
    "# Si quisiéramos ver las probabilidades ordenadas para establecer puntos de corte (para diferenciar estrategias).\n",
    "proba_ordenada = pd.value_counts(prob_sujetos['Probabilidad'])\n",
    "proba_ordenada = pd.DataFrame(proba_ordenada)\n",
    "proba_ordenada['Real_proba'] = proba_ordenada.index.values\n",
    "proba_ordenada.sort_values(by = ['Real_proba'], ascending = False, axis = 0, inplace = True)\n",
    "proba_ordenada"
   ]
  },
  {
   "cell_type": "code",
   "execution_count": 423,
   "metadata": {},
   "outputs": [
    {
     "data": {
      "image/png": "[encoded data removed]",
      "text/plain": [
       "<Figure size 432x288 with 1 Axes>"
      ]
     },
     "metadata": {
      "needs_background": "light"
     },
     "output_type": "display_data"
    }
   ],
   "source": [
    "prob_sujetos.hist(bins=75, color='Red')\n",
    "plt.xlabel('Probabilidad')\n",
    "plt.ylabel('Frecuencia')\n",
    "plt.title('Distribución de frecuencias de probabilidad de fuga')\n",
    "plt.grid(axis='both', alpha=0.2)\n",
    "plt.show()"
   ]
  },
  {
   "cell_type": "markdown",
   "metadata": {},
   "source": [
    "## Interpretación del modelo en clave de negocio\n",
    "\n",
    "De acuerdo a este modelo de clasificación de potenciales clientes perdidos, la variable más importante es el hecho de **tener líneas en impago** (0.47/0.48\n",
    " de importancia). Le sigue el hecho de **registrar incidencias o reclamación** (0.39/0.40), y finalmente el **tener descuentos** (0.12/0.13)."
   ]
  },
  {
   "cell_type": "code",
   "execution_count": 428,
   "metadata": {},
   "outputs": [
    {
     "data": {
      "text/plain": [
       "array([0.47693199, 0.3915686 , 0.13149941])"
      ]
     },
     "execution_count": 428,
     "metadata": {},
     "output_type": "execute_result"
    }
   ],
   "source": [
    "# Importancia de las variables\n",
    "mod_rforest_2.feature_importances_"
   ]
  },
  {
   "cell_type": "markdown",
   "metadata": {},
   "source": [
    "Lo primero que llama la atención es la bajada en la proporción de clientes que dejarían la compañía en febrero respecto a los que lo hicieron en enero. En primer lugar, la compañía debe plantearse la necesidad de abordar una estrategia de retención de clientes, si dicha proporción de clientes fugaces es significativamente perjudicial para la empresa -en comparación, por ejemplo, a la cantidad de clientes que se dan de alta cada mes. Lo cierto es que la cantidad de clientes que se dan de alta cada mes ronda los 340-310, por lo que se aconsejaría sí hacerlo.\n",
    "\n",
    "Ahora, \n",
    "\n",
    "+ Respecto al hecho de tener líneas en impago, vimos para los clientes de diciembre que la cantidad de líneas era indiferente: lo que importaba era el hecho de tener una o más líneas en impago. Recordemos que en este modelo no hemos transformado la variable, sigue siendo numérica (no dicotómica). Por tanto, siendo la variable más importante, sería pertinente sopesar los costos de mantener a clientes morosos contra los beneficios de retenerlo. Esa evaluación sobrepasa los objetivos de esta tarea, simplemente porque no contamos con información respecto al monto de morosidad para compararlo con, por ejemplo, la facturación mensual.\n",
    "\n",
    "+ En segundo lugar, y con bastante importancia también, el hecho de registar una incidencia o reclamación es muy importante en este modelo a la hora de predecir la fuga de un cliente. Esta variable, aunque dicotómica (no una escala, por ejemplo) y sencilla es muy importante hoy en día en tiempos de consumidores empoderados e informados. En sectores como las telecomunicaciones (pero también otros servicios), donde la portabilidad está protegida por marcos legales e impulsadas por las propias compañías, los clientes guardan fidelidad hacia las compañías que sienten los tratan bien y respetan sus derechos. En este sentido, la compañía debe orientar sus esfuerzos en general a la satisfacción del cliente, y en particular a la resolución de problemas puntuales que -en todo contexto- emergerán tras la adquisición de un servicio.\n",
    "\n",
    "+ Finalmente, sabemos tras nuestro EDA, que el hecho de tener descuento hace que un cliente **NO** deje la compañía. Esta variable no es la más importante, pero contando con solo 3, la compañía debe prestarle bastante atención también. Ahora bien, con esta información, y en estudios de otro tipo se tendría que indagar si este fenómeno ocurre por motivos objetivos o subjetivos: esto es, si los clientes con descuentos permanecen en la compañía porque objetivamente dicho descuento les ofrece tarifas más bajas que la competencia; o si, por el contrario, ocurre por la sensación subjetiva de sentirse beneficiado con una oportunidad brindada por la compañía. Si fuese lo primero, la compañía debe repensar y potenciar la estrategia de descuentos para convertirla en un motivo más poderoso de retención de clientes. Si fuese lo segundo, la compañía debería dinamizar y multiplicar (más pero de menos duración, por ejemplo) sus planes de descuento generando más espectativas entre sus clientes."
   ]
  },
  {
   "cell_type": "code",
   "execution_count": 429,
   "metadata": {},
   "outputs": [
    {
     "data": {
      "text/plain": [
       "311"
      ]
     },
     "execution_count": 429,
     "metadata": {},
     "output_type": "execute_result"
    }
   ],
   "source": [
    "# número de clientes que se han dado de alta en DICIEMBRE 2019\n",
    "dic_raw[(dic_raw.ano_alta == 2019) & (dic_raw.mes_alta == 12)].shape[0]"
   ]
  },
  {
   "cell_type": "code",
   "execution_count": 430,
   "metadata": {},
   "outputs": [
    {
     "data": {
      "text/plain": [
       "319"
      ]
     },
     "execution_count": 430,
     "metadata": {},
     "output_type": "execute_result"
    }
   ],
   "source": [
    "# número de clientes que se han dado de alta en NOVIEMBRE 2019\n",
    "dic_raw[(dic_raw.ano_alta == 2019) & (dic_raw.mes_alta == 11)].shape[0]"
   ]
  },
  {
   "cell_type": "code",
   "execution_count": 431,
   "metadata": {},
   "outputs": [
    {
     "data": {
      "text/plain": [
       "340"
      ]
     },
     "execution_count": 431,
     "metadata": {},
     "output_type": "execute_result"
    }
   ],
   "source": [
    "# número de clientes que se han dado de alta en OCTUBRE 2019\n",
    "dic_raw[(dic_raw.ano_alta == 2019) & (dic_raw.mes_alta == 10)].shape[0]"
   ]
  },
  {
   "cell_type": "markdown",
   "metadata": {},
   "source": [
    "# Fin del ejercicio"
   ]
  }
 ],
 "metadata": {
  "kernelspec": {
   "display_name": "Python 3",
   "language": "python",
   "name": "python3"
  },
  "language_info": {
   "codemirror_mode": {
    "name": "ipython",
    "version": 3
   },
   "file_extension": ".py",
   "mimetype": "text/x-python",
   "name": "python",
   "nbconvert_exporter": "python",
   "pygments_lexer": "ipython3",
   "version": "3.7.6"
  }
 },
 "nbformat": 4,
 "nbformat_minor": 4
}
